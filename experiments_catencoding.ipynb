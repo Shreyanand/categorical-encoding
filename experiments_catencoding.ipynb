{
 "cells": [
  {
   "cell_type": "code",
   "execution_count": 83,
   "metadata": {},
   "outputs": [],
   "source": [
    "import pandas as pd\n",
    "from sklearn.model_selection import StratifiedShuffleSplit\n",
    "\n",
    "class dataloader():\n",
    "    def __init__(self, filename, data_name, header='infer'):\n",
    "        self.data_name = data_name\n",
    "        self.data = pd.read_csv(filename, header=header)\n",
    "        self.clean()\n",
    "        self.X = self.y = None\n",
    "        self.X_train = self.X_test = self.y_train = self.y_test = None\n",
    "        \n",
    "    \n",
    "    def clean(self):\n",
    "        if self.data_name == 'kaggle_cat':\n",
    "            self.data = self.data.drop('id', axis=1)\n",
    "    \n",
    "    def get_input_target(self, supervised=True):\n",
    "        dataset = self.data.values\n",
    "        if supervised:\n",
    "            self.X = dataset[:, :-1].astype(str)\n",
    "            self.y = dataset[:,-1]\n",
    "            self.y.reshape((len(self.y), 1))\n",
    "        else:\n",
    "            self.X = dataset\n",
    "             \n",
    "    \n",
    "    def test_train_split(self, X, y, test_size=0.33, random_state=1):\n",
    "            sss = StratifiedShuffleSplit(n_splits=1, test_size=test_size, random_state=random_state)\n",
    "            sss.get_n_splits(X, y)\n",
    "            for train_index, test_index in sss.split(X, y):\n",
    "                #print(\"TRAIN:\", train_index, \"TEST:\", test_index)\n",
    "                self.X_train, self.X_test = X[train_index], X[test_index]\n",
    "                self.y_train, self.y_test = y[train_index], y[test_index]\n",
    "        \n",
    "\n",
    "bc = dataloader('data/breast_cancer.csv', \"breast_cancer\", header=None)\n",
    "bc.get_input_target()\n",
    "bc.test_train_split(bc.X, bc.y)"
   ]
  },
  {
   "cell_type": "code",
   "execution_count": 82,
   "metadata": {},
   "outputs": [],
   "source": [
    "kc_train = dataloader('data/kaggle_cat_train.csv', \"kaggle_cat\")\n",
    "kc_train.get_input_target()\n",
    "kc_test = dataloader('data/kaggle_cat_train.csv', \"kaggle_cat\")\n",
    "kc_test.get_input_target()"
   ]
  },
  {
   "cell_type": "code",
   "execution_count": 88,
   "metadata": {},
   "outputs": [],
   "source": [
    "insights = dataloader('data/Insights/insights.csv', \"insights\")\n",
    "insights.get_input_target(supervised=False)"
   ]
  },
  {
   "cell_type": "code",
   "execution_count": 50,
   "metadata": {},
   "outputs": [
    {
     "ename": "IndentationError",
     "evalue": "expected an indented block (<ipython-input-50-ea713a7a03dd>, line 7)",
     "output_type": "error",
     "traceback": [
      "\u001b[0;36m  File \u001b[0;32m\"<ipython-input-50-ea713a7a03dd>\"\u001b[0;36m, line \u001b[0;32m7\u001b[0m\n\u001b[0;31m    class label(encoding):\u001b[0m\n\u001b[0m        ^\u001b[0m\n\u001b[0;31mIndentationError\u001b[0m\u001b[0;31m:\u001b[0m expected an indented block\n"
     ]
    }
   ],
   "source": [
    "class encoding():\n",
    "    ## encode inputs: nothing -> X, y\n",
    "    ## encode target: (default label)\n",
    "    ## self.data\n",
    "    \n",
    "\n",
    "class label(encoding):\n",
    "    \n",
    "class OHE(encoding)\n",
    "\n",
    "class target(encoding)\n",
    "\n",
    "class EE(encoding)\n",
    "\n",
    "class autoencoder(encoding)"
   ]
  },
  {
   "cell_type": "code",
   "execution_count": null,
   "metadata": {},
   "outputs": [],
   "source": [
    "class model\n",
    "#Think of how to structure this"
   ]
  },
  {
   "cell_type": "code",
   "execution_count": null,
   "metadata": {},
   "outputs": [],
   "source": [
    "### Experiments"
   ]
  },
  {
   "cell_type": "code",
   "execution_count": 1,
   "metadata": {},
   "outputs": [
    {
     "name": "stdout",
     "output_type": "stream",
     "text": [
      "Train (191, 9) (191, 1)\n",
      "Test (95, 9) (95, 1)\n"
     ]
    }
   ],
   "source": [
    "# load and summarize the dataset\n",
    "\n",
    "\n",
    "# load the dataset\n",
    "def load_dataset(filename):\n",
    "\t# load the dataset as a pandas DataFrame\n",
    "\tdata = read_csv(filename, header=None)\n",
    "\t# retrieve numpy array\n",
    "\tdataset = data.values\n",
    "\t# split into input (X) and output (y) variables\n",
    "\tX = dataset[:, :-1]\n",
    "\ty = dataset[:,-1]\n",
    "\t# format all fields as string\n",
    "\tX = X.astype(str)\n",
    "\t# reshape target to be a 2d array\n",
    "\ty = y.reshape((len(y), 1))\n",
    "\treturn X, y\n",
    "\n",
    "# load the dataset\n",
    "X, y = load_dataset('data/breast_cancer.csv')\n",
    "# split into train and test sets\n",
    "X_train, X_test, y_train, y_test = train_test_split(X, y, test_size=0.33, random_state=1)\n",
    "# summarize\n",
    "print('Train', X_train.shape, y_train.shape)\n",
    "print('Test', X_test.shape, y_test.shape)"
   ]
  },
  {
   "cell_type": "code",
   "execution_count": 2,
   "metadata": {},
   "outputs": [],
   "source": [
    "from sklearn.preprocessing import OrdinalEncoder\n",
    "from sklearn.preprocessing import LabelEncoder\n",
    "def prepare_inputs(X_train, X_test):\n",
    "\toe = OrdinalEncoder()\n",
    "\toe.fit(X_train)\n",
    "\tX_train_enc = oe.transform(X_train)\n",
    "\tX_test_enc = oe.transform(X_test)\n",
    "\treturn X_train_enc, X_test_enc"
   ]
  },
  {
   "cell_type": "code",
   "execution_count": 3,
   "metadata": {},
   "outputs": [],
   "source": [
    "\n",
    "# prepare target\n",
    "def prepare_targets(y_train, y_test):\n",
    "\tle = LabelEncoder()\n",
    "\tle.fit(y_train)\n",
    "\ty_train_enc = le.transform(y_train)\n",
    "\ty_test_enc = le.transform(y_test)\n",
    "\treturn y_train_enc, y_test_enc"
   ]
  },
  {
   "cell_type": "code",
   "execution_count": 4,
   "metadata": {},
   "outputs": [],
   "source": [
    "# prepare target\n",
    "def prepare_targets_ordinal(y_train, y_test):\n",
    "\tle = OrdinalEncoder()\n",
    "\tle.fit(y_train)\n",
    "\ty_train_enc = le.transform(y_train)\n",
    "\ty_test_enc = le.transform(y_test)\n",
    "\treturn y_train_enc, y_test_enc"
   ]
  },
  {
   "cell_type": "code",
   "execution_count": 5,
   "metadata": {},
   "outputs": [],
   "source": [
    "# prepare input data\n",
    "X_train_enc, X_test_enc = prepare_inputs(X_train, X_test)\n",
    "# prepare output data\n",
    "#y_train_enc, y_test_enc = prepare_targets(y_train, y_test)\n",
    "y_train_enc, y_test_enc = prepare_targets_ordinal(y_train, y_test)"
   ]
  },
  {
   "cell_type": "code",
   "execution_count": 6,
   "metadata": {},
   "outputs": [],
   "source": [
    "### Credits: https://machinelearningmastery.com/how-to-prepare-categorical-data-for-deep-learning-in-python/"
   ]
  },
  {
   "cell_type": "code",
   "execution_count": 7,
   "metadata": {},
   "outputs": [
    {
     "name": "stderr",
     "output_type": "stream",
     "text": [
      "Using TensorFlow backend.\n"
     ]
    },
    {
     "name": "stdout",
     "output_type": "stream",
     "text": [
      "Accuracy: 71.58\n"
     ]
    }
   ],
   "source": [
    "# define the  model\n",
    "from keras.models import Sequential\n",
    "from keras.layers import Dense\n",
    "model = Sequential()\n",
    "model.add(Dense(10, input_dim=X_train_enc.shape[1], activation='relu', kernel_initializer='he_normal'))\n",
    "model.add(Dense(1, activation='sigmoid'))\n",
    "# compile the keras model\n",
    "model.compile(loss='binary_crossentropy', optimizer='adam', metrics=['accuracy'])\n",
    "# fit the keras model on the dataset\n",
    "model.fit(X_train_enc, y_train_enc, epochs=100, batch_size=16, verbose=0)\n",
    "# evaluate the keras model\n",
    "_, accuracy = model.evaluate(X_test_enc, y_test_enc, verbose=0)\n",
    "print('Accuracy: %.2f' % (accuracy*100))"
   ]
  },
  {
   "cell_type": "code",
   "execution_count": 31,
   "metadata": {},
   "outputs": [
    {
     "name": "stdout",
     "output_type": "stream",
     "text": [
      "Accuracy: 70.53\n"
     ]
    }
   ],
   "source": [
    "model.fit(X_train_enc, y_train_enc, epochs=100, batch_size=16, verbose=0)\n",
    "# evaluate the keras model\n",
    "_, accuracy = model.evaluate(X_test_enc, y_test_enc, verbose=0)\n",
    "print('Accuracy: %.2f' % (accuracy*100))"
   ]
  },
  {
   "cell_type": "code",
   "execution_count": null,
   "metadata": {},
   "outputs": [],
   "source": []
  }
 ],
 "metadata": {
  "kernelspec": {
   "display_name": "Python 3",
   "language": "python",
   "name": "python3"
  },
  "language_info": {
   "codemirror_mode": {
    "name": "ipython",
    "version": 3
   },
   "file_extension": ".py",
   "mimetype": "text/x-python",
   "name": "python",
   "nbconvert_exporter": "python",
   "pygments_lexer": "ipython3",
   "version": "3.6.9"
  }
 },
 "nbformat": 4,
 "nbformat_minor": 4
}
