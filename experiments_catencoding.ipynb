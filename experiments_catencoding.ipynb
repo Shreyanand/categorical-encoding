{
 "cells": [
  {
   "cell_type": "code",
   "execution_count": 1,
   "metadata": {},
   "outputs": [],
   "source": [
    "import pandas as pd\n",
    "from sklearn.model_selection import StratifiedShuffleSplit\n",
    "\n",
    "class dataloader():\n",
    "    def __init__(self, filename, data_name, header='infer'):\n",
    "        self.data_name = data_name\n",
    "        self.data = pd.read_csv(filename, header=header)\n",
    "        self.clean()\n",
    "        self.X = self.y = None\n",
    "        self.X_train = self.X_test = self.y_train = self.y_test = None\n",
    "        \n",
    "    \n",
    "    def clean(self):\n",
    "        if self.data_name == 'kaggle_cat':\n",
    "            self.data = self.data.drop('id', axis=1)\n",
    "    \n",
    "    def get_input_target(self, supervised=True):\n",
    "        dataset = self.data.values\n",
    "        if supervised:\n",
    "            self.X = dataset[:, :-1].astype(str)\n",
    "            self.y = dataset[:,-1]\n",
    "            self.y.reshape((len(self.y), 1))\n",
    "        else:\n",
    "            self.X = dataset\n",
    "             \n",
    "    \n",
    "    def test_train_split(self, X, y, test_size=0.33, random_state=1):\n",
    "            sss = StratifiedShuffleSplit(n_splits=1, test_size=test_size, random_state=random_state)\n",
    "            sss.get_n_splits(X, y)\n",
    "            for train_index, test_index in sss.split(X, y):\n",
    "                #print(\"TRAIN:\", train_index, \"TEST:\", test_index)\n",
    "                self.X_train, self.X_test = X[train_index], X[test_index]\n",
    "                self.y_train, self.y_test = y[train_index], y[test_index]"
   ]
  },
  {
   "cell_type": "code",
   "execution_count": 79,
   "metadata": {},
   "outputs": [],
   "source": [
    "from sklearn.preprocessing import OrdinalEncoder\n",
    "from sklearn.preprocessing import LabelEncoder\n",
    "from sklearn.preprocessing import OneHotEncoder\n",
    "import numpy as np\n",
    "#https://datascience.stackexchange.com/questions/39317/difference-between-ordinalencoder-and-labelencoder\n",
    "#check this out for ordinal vs label\n",
    "\n",
    "class encoding():\n",
    "    ## encode inputs: nothing -> X, y\n",
    "    ## encode target: (default label)\n",
    "    ## self.data\n",
    "    def __init__(self):\n",
    "        #self.data = data\n",
    "        self.encoder = None\n",
    "    \n",
    "class label(encoding):\n",
    "    \n",
    "    def __init__(self):\n",
    "        #super().__init__(data)\n",
    "        self.encoder = [] #Save encoders in the object for later use\n",
    "        self.X_train = self.X_test = None\n",
    "        \n",
    "    def encode_inputs(self, X, mode):\n",
    "        X_enc = []\n",
    "        for e, col in enumerate(X.T):\n",
    "            if mode == \"train\":\n",
    "                #self.encoder = [LabelEncoder() for i in range(X.shape[1])]\n",
    "                encoder_col = LabelEncoder()\n",
    "                encoder_col.fit(list(col) + ['Unk']) #handle unkown labels for test\n",
    "                x_enc = encoder_col.transform(col)\n",
    "                self.encoder.append(encoder_col)\n",
    "                X_enc.append(x_enc)\n",
    "            else:\n",
    "                new_col = list(col)\n",
    "                for unique_item in np.unique(col):\n",
    "                    if unique_item not in self.encoder[e].classes_:\n",
    "                        new_col = ['Unk' if x==unique_item else x for x in new_col]\n",
    "                X_enc.append(self.encoder[e].transform(new_col))\n",
    "        return np.vstack(X_enc).T  \n",
    "    \n",
    "class ordinal(encoding):\n",
    "    \n",
    "    def __init__(self):\n",
    "        #super().__init__(data)\n",
    "        self.encoder = OrdinalEncoder()\n",
    "        self.X_train = self.X_test = None\n",
    "        \n",
    "    def encode_inputs(self, X):\n",
    "        return self.encoder.fit_transform(X)\n",
    "    \n",
    "class OHE(encoding):\n",
    "    \n",
    "    def __init__(self, sparse=True):\n",
    "        #super().__init__(data)\n",
    "        self.encoder = OneHotEncoder(sparse=sparse, handle_unknown=\"ignore\")\n",
    "        self.X_train = self.X_test = None\n",
    "        \n",
    "    def encode_inputs(self, X, mode):\n",
    "        if mode == \"train\":\n",
    "            return self.encoder.fit_transform(X)\n",
    "        else:\n",
    "            return self.encoder.transform(X)\n",
    "    \n",
    "#Why should data be in parent class? do we need it?\n",
    "\n",
    "# class target(encoding)\n",
    "\n",
    "# class EE(encoding)\n",
    "\n",
    "# class autoencoder(encoding)"
   ]
  },
  {
   "cell_type": "markdown",
   "metadata": {},
   "source": [
    "### Kaggle Dataset"
   ]
  },
  {
   "cell_type": "code",
   "execution_count": 73,
   "metadata": {},
   "outputs": [],
   "source": [
    "kc_train = dataloader('data/kaggle_cat_train.csv', \"kaggle_cat\")\n",
    "kc_train.get_input_target()\n",
    "kc_test = dataloader('data/kaggle_cat_train.csv', \"kaggle_cat\")\n",
    "kc_test.get_input_target()"
   ]
  },
  {
   "cell_type": "code",
   "execution_count": 74,
   "metadata": {},
   "outputs": [],
   "source": [
    "kag_label = label()\n",
    "kag_label.X_train = kag_label.encode_inputs(kc_train.X, mode=\"train\")\n",
    "kag_label.X_test = kag_label.encode_inputs(kc_test.X, mode=\"test\")"
   ]
  },
  {
   "cell_type": "code",
   "execution_count": 75,
   "metadata": {},
   "outputs": [],
   "source": [
    "kag_ohe = OHE(sparse=True)\n",
    "kag_ohe.X_train = kag_ohe.encode_inputs(kc_train.X, mode=\"train\")\n",
    "kag_ohe.X_test = kag_ohe.encode_inputs(kc_test.X, mode=\"test\")"
   ]
  },
  {
   "cell_type": "markdown",
   "metadata": {},
   "source": [
    "### Breast Cancer Dataset"
   ]
  },
  {
   "cell_type": "code",
   "execution_count": 76,
   "metadata": {},
   "outputs": [],
   "source": [
    "bc = dataloader('data/breast_cancer.csv', \"breast_cancer\", header=None)\n",
    "bc.get_input_target()\n",
    "bc.test_train_split(bc.X, bc.y)"
   ]
  },
  {
   "cell_type": "code",
   "execution_count": 77,
   "metadata": {},
   "outputs": [],
   "source": [
    "bc_label = label()\n",
    "bc_label.X_train = bc_label.encode_inputs(bc.X_train, mode=\"train\")\n",
    "bc_label.X_test = bc_label.encode_inputs(bc.X_test, mode=\"test\")"
   ]
  },
  {
   "cell_type": "code",
   "execution_count": 78,
   "metadata": {},
   "outputs": [],
   "source": [
    "bc_ohe = OHE(sparse=True)\n",
    "bc_ohe.X_train = kag_ohe.encode_inputs(kc_train.X, mode=\"train\")\n",
    "bc_ohe.X_test = kag_ohe.encode_inputs(kc_test.X, mode=\"test\")"
   ]
  },
  {
   "cell_type": "markdown",
   "metadata": {},
   "source": [
    "### Insights Dataset"
   ]
  },
  {
   "cell_type": "code",
   "execution_count": 80,
   "metadata": {},
   "outputs": [],
   "source": [
    "insights = dataloader('data/Insights/insights.csv', \"insights\")\n",
    "insights.get_input_target(supervised=False)"
   ]
  },
  {
   "cell_type": "code",
   "execution_count": 81,
   "metadata": {},
   "outputs": [],
   "source": [
    "ins_label = label()\n",
    "insights.X_enc = ins_label.encode_inputs(insights.X.astype(str), mode=\"train\")"
   ]
  },
  {
   "cell_type": "code",
   "execution_count": 82,
   "metadata": {},
   "outputs": [],
   "source": [
    "ins_ohe = OHE(sparse=True)\n",
    "ins_ohe.X_enc = ins_ohe.encode_inputs(insights.X.astype(str), mode=\"train\")"
   ]
  },
  {
   "cell_type": "code",
   "execution_count": null,
   "metadata": {},
   "outputs": [],
   "source": [
    "class model\n",
    "#Think of how to structure this"
   ]
  },
  {
   "cell_type": "code",
   "execution_count": null,
   "metadata": {},
   "outputs": [],
   "source": [
    "### Experiments"
   ]
  },
  {
   "cell_type": "code",
   "execution_count": 1,
   "metadata": {},
   "outputs": [
    {
     "name": "stdout",
     "output_type": "stream",
     "text": [
      "Train (191, 9) (191, 1)\n",
      "Test (95, 9) (95, 1)\n"
     ]
    }
   ],
   "source": [
    "# load and summarize the dataset\n",
    "\n",
    "\n",
    "# load the dataset\n",
    "def load_dataset(filename):\n",
    "\t# load the dataset as a pandas DataFrame\n",
    "\tdata = read_csv(filename, header=None)\n",
    "\t# retrieve numpy array\n",
    "\tdataset = data.values\n",
    "\t# split into input (X) and output (y) variables\n",
    "\tX = dataset[:, :-1]\n",
    "\ty = dataset[:,-1]\n",
    "\t# format all fields as string\n",
    "\tX = X.astype(str)\n",
    "\t# reshape target to be a 2d array\n",
    "\ty = y.reshape((len(y), 1))\n",
    "\treturn X, y\n",
    "\n",
    "# load the dataset\n",
    "X, y = load_dataset('data/breast_cancer.csv')\n",
    "# split into train and test sets\n",
    "X_train, X_test, y_train, y_test = train_test_split(X, y, test_size=0.33, random_state=1)\n",
    "# summarize\n",
    "print('Train', X_train.shape, y_train.shape)\n",
    "print('Test', X_test.shape, y_test.shape)"
   ]
  },
  {
   "cell_type": "code",
   "execution_count": 2,
   "metadata": {},
   "outputs": [],
   "source": [
    "from sklearn.preprocessing import OrdinalEncoder\n",
    "from sklearn.preprocessing import LabelEncoder\n",
    "def prepare_inputs(X_train, X_test):\n",
    "\toe = OrdinalEncoder()\n",
    "\toe.fit(X_train)\n",
    "\tX_train_enc = oe.transform(X_train)\n",
    "\tX_test_enc = oe.transform(X_test)\n",
    "\treturn X_train_enc, X_test_enc"
   ]
  },
  {
   "cell_type": "code",
   "execution_count": 3,
   "metadata": {},
   "outputs": [],
   "source": [
    "\n",
    "# prepare target\n",
    "def prepare_targets(y_train, y_test):\n",
    "\tle = LabelEncoder()\n",
    "\tle.fit(y_train)\n",
    "\ty_train_enc = le.transform(y_train)\n",
    "\ty_test_enc = le.transform(y_test)\n",
    "\treturn y_train_enc, y_test_enc"
   ]
  },
  {
   "cell_type": "code",
   "execution_count": 4,
   "metadata": {},
   "outputs": [],
   "source": [
    "# prepare target\n",
    "def prepare_targets_ordinal(y_train, y_test):\n",
    "\tle = OrdinalEncoder()\n",
    "\tle.fit(y_train)\n",
    "\ty_train_enc = le.transform(y_train)\n",
    "\ty_test_enc = le.transform(y_test)\n",
    "\treturn y_train_enc, y_test_enc"
   ]
  },
  {
   "cell_type": "code",
   "execution_count": 5,
   "metadata": {},
   "outputs": [],
   "source": [
    "# prepare input data\n",
    "X_train_enc, X_test_enc = prepare_inputs(X_train, X_test)\n",
    "# prepare output data\n",
    "#y_train_enc, y_test_enc = prepare_targets(y_train, y_test)\n",
    "y_train_enc, y_test_enc = prepare_targets_ordinal(y_train, y_test)"
   ]
  },
  {
   "cell_type": "code",
   "execution_count": 6,
   "metadata": {},
   "outputs": [],
   "source": [
    "### Credits: https://machinelearningmastery.com/how-to-prepare-categorical-data-for-deep-learning-in-python/"
   ]
  },
  {
   "cell_type": "code",
   "execution_count": 7,
   "metadata": {},
   "outputs": [
    {
     "name": "stderr",
     "output_type": "stream",
     "text": [
      "Using TensorFlow backend.\n"
     ]
    },
    {
     "name": "stdout",
     "output_type": "stream",
     "text": [
      "Accuracy: 71.58\n"
     ]
    }
   ],
   "source": [
    "# define the  model\n",
    "from keras.models import Sequential\n",
    "from keras.layers import Dense\n",
    "model = Sequential()\n",
    "model.add(Dense(10, input_dim=X_train_enc.shape[1], activation='relu', kernel_initializer='he_normal'))\n",
    "model.add(Dense(1, activation='sigmoid'))\n",
    "# compile the keras model\n",
    "model.compile(loss='binary_crossentropy', optimizer='adam', metrics=['accuracy'])\n",
    "# fit the keras model on the dataset\n",
    "model.fit(X_train_enc, y_train_enc, epochs=100, batch_size=16, verbose=0)\n",
    "# evaluate the keras model\n",
    "_, accuracy = model.evaluate(X_test_enc, y_test_enc, verbose=0)\n",
    "print('Accuracy: %.2f' % (accuracy*100))"
   ]
  },
  {
   "cell_type": "code",
   "execution_count": 31,
   "metadata": {},
   "outputs": [
    {
     "name": "stdout",
     "output_type": "stream",
     "text": [
      "Accuracy: 70.53\n"
     ]
    }
   ],
   "source": [
    "model.fit(X_train_enc, y_train_enc, epochs=100, batch_size=16, verbose=0)\n",
    "# evaluate the keras model\n",
    "_, accuracy = model.evaluate(X_test_enc, y_test_enc, verbose=0)\n",
    "print('Accuracy: %.2f' % (accuracy*100))"
   ]
  },
  {
   "cell_type": "code",
   "execution_count": null,
   "metadata": {},
   "outputs": [],
   "source": []
  }
 ],
 "metadata": {
  "kernelspec": {
   "display_name": "Python 3",
   "language": "python",
   "name": "python3"
  },
  "language_info": {
   "codemirror_mode": {
    "name": "ipython",
    "version": 3
   },
   "file_extension": ".py",
   "mimetype": "text/x-python",
   "name": "python",
   "nbconvert_exporter": "python",
   "pygments_lexer": "ipython3",
   "version": "3.6.9"
  }
 },
 "nbformat": 4,
 "nbformat_minor": 4
}
