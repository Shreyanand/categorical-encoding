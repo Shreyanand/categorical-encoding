{
 "cells": [
  {
   "cell_type": "markdown",
   "metadata": {},
   "source": [
    "# Categorical Encoding\n",
    "\n",
    "Unsupervised learning problems such as anomaly detection and clustering are challenging due to lack of labels required for training embeddings and validating the results. Therefore, it becomes essential to use the right encoding schemes, dimensionality reduction methods, and models. Manipulating numerical variables is pretty straightforwad as they can be easily plugged into statistical methods. For example, it is easy to find mean and standard deviations in the height of a population.\n",
    "\n",
    "Categorical variables need to be handled carefully as they have to be converted to numbers. Ordinal categorical variables have an inherent ordering from one extreme to the other, for e.g., sentiment can be very negative, negative, neutral, positive, and very positive. We can use simple integer encoding or contrast encoding for these variables. \n",
    "\n",
    "In this notebook, we focus on encoding schemes for nominal categorical variables. These variables are particularly challenging because there is no inherent ordering in the variables, for e.g., weather can be rainy, sunny, snowy, etc. Encoding to numbers is challenging because we don't want to distort the distances between the levels of the variables. In other words, if we encode rainy as 0, sunny as 1, and snowy as 2 then the model will interpret rainy to be closer to sunny than snowy which is not true. A common approach is to use one-hot encoding scheme. The method works well because all the one hot vectors are orthogonal to each other and so true distances are preserved. However, when the cardinality of the variables increase, one-hot encoding explodes the computation. For example, if we have 1000 different types of weather conditions then one-hot would give a 1000 dimension vector. To improve performance, we may choose to reduce dimensions using various forms matrix decomposition techniques. However, since we cannot go back to original dimensional space, we lose explainability in this process. Therefore, we search for encoders that optimally balance the trade-off between performance and explainability."
   ]
  },
  {
   "cell_type": "code",
   "execution_count": null,
   "metadata": {
    "ExecuteTime": {
     "end_time": "2020-05-29T18:30:06.408252Z",
     "start_time": "2020-05-29T18:30:05.783423Z"
    },
    "scrolled": true
   },
   "outputs": [],
   "source": [
    "# !pip install dirty_cat category_encoders\n",
    "# !pip install lightgbm xgboost fasttext\n",
    "from get_data import dataloader\n",
    "from column_encoder import ColumnEncoder #This is where the magic happens\n",
    "from sklearn.compose import ColumnTransformer\n",
    "from sklearn.metrics import classification_report\n",
    "import numpy as np\n",
    "from lightgbm import LGBMClassifier, LGBMRegressor\n",
    "import get_data\n",
    "from joblib import Parallel, delayed\n",
    "import multiprocessing\n",
    "from sklearn.pipeline import Pipeline\n",
    "from sklearn.model_selection import GridSearchCV\n",
    "from sklearn.decomposition import TruncatedSVD\n",
    "from sklearn.metrics import classification_report\n",
    "from sklearn.model_selection import StratifiedShuffleSplit\n",
    "from sklearn.feature_extraction import FeatureHasher\n",
    "import category_encoders as ce\n",
    "import pandas as pd\n",
    "from xgboost import XGBClassifier, XGBRegressor"
   ]
  },
  {
   "cell_type": "markdown",
   "metadata": {},
   "source": [
    "## Data\n",
    "* To demonstrate different encoding techniques, we take a dataset with different employment position titles and their corresponding remuneration.\n",
    "* The task is to predict using the position title, whether or not the employee earns more than 100k/"
   ]
  },
  {
   "cell_type": "code",
   "execution_count": 5,
   "metadata": {
    "ExecuteTime": {
     "end_time": "2020-05-29T18:30:13.699301Z",
     "start_time": "2020-05-29T18:30:13.655393Z"
    },
    "scrolled": true
   },
   "outputs": [
    {
     "data": {
      "text/html": [
       "<div>\n",
       "<style scoped>\n",
       "    .dataframe tbody tr th:only-of-type {\n",
       "        vertical-align: middle;\n",
       "    }\n",
       "\n",
       "    .dataframe tbody tr th {\n",
       "        vertical-align: top;\n",
       "    }\n",
       "\n",
       "    .dataframe thead th {\n",
       "        text-align: right;\n",
       "    }\n",
       "</style>\n",
       "<table border=\"1\" class=\"dataframe\">\n",
       "  <thead>\n",
       "    <tr style=\"text-align: right;\">\n",
       "      <th></th>\n",
       "      <th>Title</th>\n",
       "      <th>Remuneration_class</th>\n",
       "    </tr>\n",
       "  </thead>\n",
       "  <tbody>\n",
       "    <tr>\n",
       "      <th>0</th>\n",
       "      <td>Fire Captain</td>\n",
       "      <td>True</td>\n",
       "    </tr>\n",
       "    <tr>\n",
       "      <th>1</th>\n",
       "      <td>Trades Ii - Gardener</td>\n",
       "      <td>False</td>\n",
       "    </tr>\n",
       "    <tr>\n",
       "      <th>2</th>\n",
       "      <td>Corporate Compliance Analyst</td>\n",
       "      <td>False</td>\n",
       "    </tr>\n",
       "    <tr>\n",
       "      <th>3</th>\n",
       "      <td>Telecommunications Plant Coordinator</td>\n",
       "      <td>False</td>\n",
       "    </tr>\n",
       "    <tr>\n",
       "      <th>4</th>\n",
       "      <td>Civil Engineer I</td>\n",
       "      <td>False</td>\n",
       "    </tr>\n",
       "    <tr>\n",
       "      <th>5</th>\n",
       "      <td>Property Development Officer Ii</td>\n",
       "      <td>True</td>\n",
       "    </tr>\n",
       "    <tr>\n",
       "      <th>6</th>\n",
       "      <td>Manager Project Management Office</td>\n",
       "      <td>True</td>\n",
       "    </tr>\n",
       "    <tr>\n",
       "      <th>7</th>\n",
       "      <td>Firefighter</td>\n",
       "      <td>True</td>\n",
       "    </tr>\n",
       "    <tr>\n",
       "      <th>8</th>\n",
       "      <td>Firefighter</td>\n",
       "      <td>True</td>\n",
       "    </tr>\n",
       "    <tr>\n",
       "      <th>9</th>\n",
       "      <td>Mgr Regulatory Compl Progm Impl &amp; Admin</td>\n",
       "      <td>True</td>\n",
       "    </tr>\n",
       "    <tr>\n",
       "      <th>10</th>\n",
       "      <td>Supervisor Development Processing</td>\n",
       "      <td>False</td>\n",
       "    </tr>\n",
       "    <tr>\n",
       "      <th>11</th>\n",
       "      <td>Manager Processing Centre Building</td>\n",
       "      <td>True</td>\n",
       "    </tr>\n",
       "    <tr>\n",
       "      <th>12</th>\n",
       "      <td>Firefighter</td>\n",
       "      <td>True</td>\n",
       "    </tr>\n",
       "    <tr>\n",
       "      <th>13</th>\n",
       "      <td>Working Foreman</td>\n",
       "      <td>False</td>\n",
       "    </tr>\n",
       "    <tr>\n",
       "      <th>14</th>\n",
       "      <td>Fire Captain</td>\n",
       "      <td>True</td>\n",
       "    </tr>\n",
       "    <tr>\n",
       "      <th>15</th>\n",
       "      <td>Superintendent Iii</td>\n",
       "      <td>True</td>\n",
       "    </tr>\n",
       "    <tr>\n",
       "      <th>16</th>\n",
       "      <td>Manager Commercial Operations</td>\n",
       "      <td>True</td>\n",
       "    </tr>\n",
       "    <tr>\n",
       "      <th>17</th>\n",
       "      <td>Firefighter</td>\n",
       "      <td>True</td>\n",
       "    </tr>\n",
       "    <tr>\n",
       "      <th>18</th>\n",
       "      <td>Civil Engineer I</td>\n",
       "      <td>False</td>\n",
       "    </tr>\n",
       "    <tr>\n",
       "      <th>19</th>\n",
       "      <td>System Analyst Ii</td>\n",
       "      <td>False</td>\n",
       "    </tr>\n",
       "    <tr>\n",
       "      <th>20</th>\n",
       "      <td>Civil Engineer Ii</td>\n",
       "      <td>False</td>\n",
       "    </tr>\n",
       "    <tr>\n",
       "      <th>21</th>\n",
       "      <td>Equipment Operator V</td>\n",
       "      <td>False</td>\n",
       "    </tr>\n",
       "    <tr>\n",
       "      <th>22</th>\n",
       "      <td>Mgr Regulatory Compl Progm Impl &amp; Admin</td>\n",
       "      <td>False</td>\n",
       "    </tr>\n",
       "    <tr>\n",
       "      <th>23</th>\n",
       "      <td>Property Development Officer I</td>\n",
       "      <td>True</td>\n",
       "    </tr>\n",
       "    <tr>\n",
       "      <th>24</th>\n",
       "      <td>Supervisor Mjr Maintenance/Construction</td>\n",
       "      <td>True</td>\n",
       "    </tr>\n",
       "    <tr>\n",
       "      <th>25</th>\n",
       "      <td>Senior Technical Specialist</td>\n",
       "      <td>True</td>\n",
       "    </tr>\n",
       "    <tr>\n",
       "      <th>26</th>\n",
       "      <td>Firefighter</td>\n",
       "      <td>True</td>\n",
       "    </tr>\n",
       "    <tr>\n",
       "      <th>27</th>\n",
       "      <td>Manager Project Facilitation</td>\n",
       "      <td>True</td>\n",
       "    </tr>\n",
       "    <tr>\n",
       "      <th>28</th>\n",
       "      <td>Firefighter</td>\n",
       "      <td>True</td>\n",
       "    </tr>\n",
       "    <tr>\n",
       "      <th>29</th>\n",
       "      <td>Maintenance Planner</td>\n",
       "      <td>False</td>\n",
       "    </tr>\n",
       "    <tr>\n",
       "      <th>...</th>\n",
       "      <td>...</td>\n",
       "      <td>...</td>\n",
       "    </tr>\n",
       "    <tr>\n",
       "      <th>25298</th>\n",
       "      <td>Fire Rescue Officer</td>\n",
       "      <td>False</td>\n",
       "    </tr>\n",
       "    <tr>\n",
       "      <th>25299</th>\n",
       "      <td>Fire Captain</td>\n",
       "      <td>True</td>\n",
       "    </tr>\n",
       "    <tr>\n",
       "      <th>25300</th>\n",
       "      <td>Manager Operations - QE</td>\n",
       "      <td>True</td>\n",
       "    </tr>\n",
       "    <tr>\n",
       "      <th>25301</th>\n",
       "      <td>Manager Electrical Inspection Branch</td>\n",
       "      <td>True</td>\n",
       "    </tr>\n",
       "    <tr>\n",
       "      <th>25302</th>\n",
       "      <td>Battalion Chief</td>\n",
       "      <td>True</td>\n",
       "    </tr>\n",
       "    <tr>\n",
       "      <th>25303</th>\n",
       "      <td>Branch Head Engineering</td>\n",
       "      <td>True</td>\n",
       "    </tr>\n",
       "    <tr>\n",
       "      <th>25304</th>\n",
       "      <td>Subforeman Iii</td>\n",
       "      <td>False</td>\n",
       "    </tr>\n",
       "    <tr>\n",
       "      <th>25305</th>\n",
       "      <td>Firefighter</td>\n",
       "      <td>False</td>\n",
       "    </tr>\n",
       "    <tr>\n",
       "      <th>25306</th>\n",
       "      <td>Social Planner Il</td>\n",
       "      <td>False</td>\n",
       "    </tr>\n",
       "    <tr>\n",
       "      <th>25307</th>\n",
       "      <td>Manager Research &amp; Planning</td>\n",
       "      <td>True</td>\n",
       "    </tr>\n",
       "    <tr>\n",
       "      <th>25308</th>\n",
       "      <td>Firefighter</td>\n",
       "      <td>False</td>\n",
       "    </tr>\n",
       "    <tr>\n",
       "      <th>25309</th>\n",
       "      <td>Internal Audit Consultant</td>\n",
       "      <td>False</td>\n",
       "    </tr>\n",
       "    <tr>\n",
       "      <th>25310</th>\n",
       "      <td>Firefighter</td>\n",
       "      <td>False</td>\n",
       "    </tr>\n",
       "    <tr>\n",
       "      <th>25311</th>\n",
       "      <td>Director Development Services</td>\n",
       "      <td>True</td>\n",
       "    </tr>\n",
       "    <tr>\n",
       "      <th>25312</th>\n",
       "      <td>Supervisor Recreation Services</td>\n",
       "      <td>False</td>\n",
       "    </tr>\n",
       "    <tr>\n",
       "      <th>25313</th>\n",
       "      <td>Firefighter</td>\n",
       "      <td>False</td>\n",
       "    </tr>\n",
       "    <tr>\n",
       "      <th>25314</th>\n",
       "      <td>Branch Head Engineering</td>\n",
       "      <td>False</td>\n",
       "    </tr>\n",
       "    <tr>\n",
       "      <th>25315</th>\n",
       "      <td>Firefighter</td>\n",
       "      <td>False</td>\n",
       "    </tr>\n",
       "    <tr>\n",
       "      <th>25316</th>\n",
       "      <td>SAP Business Analyst</td>\n",
       "      <td>False</td>\n",
       "    </tr>\n",
       "    <tr>\n",
       "      <th>25317</th>\n",
       "      <td>Fire Lieutenant</td>\n",
       "      <td>False</td>\n",
       "    </tr>\n",
       "    <tr>\n",
       "      <th>25318</th>\n",
       "      <td>Senior Branch Head Engineering</td>\n",
       "      <td>True</td>\n",
       "    </tr>\n",
       "    <tr>\n",
       "      <th>25319</th>\n",
       "      <td>Working Foreman</td>\n",
       "      <td>False</td>\n",
       "    </tr>\n",
       "    <tr>\n",
       "      <th>25320</th>\n",
       "      <td>Firefighter</td>\n",
       "      <td>False</td>\n",
       "    </tr>\n",
       "    <tr>\n",
       "      <th>25321</th>\n",
       "      <td>Deputy Chief License Inspector</td>\n",
       "      <td>True</td>\n",
       "    </tr>\n",
       "    <tr>\n",
       "      <th>25322</th>\n",
       "      <td>SAP Business Analyst</td>\n",
       "      <td>False</td>\n",
       "    </tr>\n",
       "    <tr>\n",
       "      <th>25323</th>\n",
       "      <td>Firefighter</td>\n",
       "      <td>False</td>\n",
       "    </tr>\n",
       "    <tr>\n",
       "      <th>25324</th>\n",
       "      <td>Financial Analyst I</td>\n",
       "      <td>False</td>\n",
       "    </tr>\n",
       "    <tr>\n",
       "      <th>25325</th>\n",
       "      <td>Fire Prevention Inspector</td>\n",
       "      <td>False</td>\n",
       "    </tr>\n",
       "    <tr>\n",
       "      <th>25326</th>\n",
       "      <td>Firefighter</td>\n",
       "      <td>False</td>\n",
       "    </tr>\n",
       "    <tr>\n",
       "      <th>25327</th>\n",
       "      <td>Superintendent I</td>\n",
       "      <td>False</td>\n",
       "    </tr>\n",
       "  </tbody>\n",
       "</table>\n",
       "<p>25328 rows × 2 columns</p>\n",
       "</div>"
      ],
      "text/plain": [
       "                                         Title  Remuneration_class\n",
       "0                                 Fire Captain                True\n",
       "1                         Trades Ii - Gardener               False\n",
       "2                 Corporate Compliance Analyst               False\n",
       "3         Telecommunications Plant Coordinator               False\n",
       "4                             Civil Engineer I               False\n",
       "5              Property Development Officer Ii                True\n",
       "6            Manager Project Management Office                True\n",
       "7                                  Firefighter                True\n",
       "8                                  Firefighter                True\n",
       "9      Mgr Regulatory Compl Progm Impl & Admin                True\n",
       "10           Supervisor Development Processing               False\n",
       "11          Manager Processing Centre Building                True\n",
       "12                                 Firefighter                True\n",
       "13                             Working Foreman               False\n",
       "14                                Fire Captain                True\n",
       "15                          Superintendent Iii                True\n",
       "16               Manager Commercial Operations                True\n",
       "17                                 Firefighter                True\n",
       "18                            Civil Engineer I               False\n",
       "19                           System Analyst Ii               False\n",
       "20                           Civil Engineer Ii               False\n",
       "21                        Equipment Operator V               False\n",
       "22     Mgr Regulatory Compl Progm Impl & Admin               False\n",
       "23              Property Development Officer I                True\n",
       "24     Supervisor Mjr Maintenance/Construction                True\n",
       "25                 Senior Technical Specialist                True\n",
       "26                                 Firefighter                True\n",
       "27                Manager Project Facilitation                True\n",
       "28                                 Firefighter                True\n",
       "29                         Maintenance Planner               False\n",
       "...                                        ...                 ...\n",
       "25298                      Fire Rescue Officer               False\n",
       "25299                             Fire Captain                True\n",
       "25300                  Manager Operations - QE                True\n",
       "25301     Manager Electrical Inspection Branch                True\n",
       "25302                          Battalion Chief                True\n",
       "25303                  Branch Head Engineering                True\n",
       "25304                           Subforeman Iii               False\n",
       "25305                              Firefighter               False\n",
       "25306                        Social Planner Il               False\n",
       "25307              Manager Research & Planning                True\n",
       "25308                              Firefighter               False\n",
       "25309                Internal Audit Consultant               False\n",
       "25310                              Firefighter               False\n",
       "25311            Director Development Services                True\n",
       "25312           Supervisor Recreation Services               False\n",
       "25313                              Firefighter               False\n",
       "25314                  Branch Head Engineering               False\n",
       "25315                              Firefighter               False\n",
       "25316                     SAP Business Analyst               False\n",
       "25317                          Fire Lieutenant               False\n",
       "25318           Senior Branch Head Engineering                True\n",
       "25319                          Working Foreman               False\n",
       "25320                              Firefighter               False\n",
       "25321           Deputy Chief License Inspector                True\n",
       "25322                     SAP Business Analyst               False\n",
       "25323                              Firefighter               False\n",
       "25324                      Financial Analyst I               False\n",
       "25325                Fire Prevention Inspector               False\n",
       "25326                              Firefighter               False\n",
       "25327                         Superintendent I               False\n",
       "\n",
       "[25328 rows x 2 columns]"
      ]
     },
     "execution_count": 5,
     "metadata": {},
     "output_type": "execute_result"
    }
   ],
   "source": [
    "# Data downloaded from here: https://opendata.vancouver.ca/explore/dataset/employee-remuneration-and-expenses-earning-over-75000/export/?disjunctive.department&disjunctive.title&sort=year\n",
    "emp_df = pd.read_csv('public_data/employee.csv', sep=';')[['Title', 'Remuneration']]\n",
    "emp_df['Remuneration_class'] = emp_df['Remuneration'].apply(lambda x: x > 100000)\n",
    "emp_df.drop('Remuneration', axis=1, inplace=True)\n",
    "emp_df"
   ]
  },
  {
   "cell_type": "markdown",
   "metadata": {},
   "source": [
    "### Split into train and test"
   ]
  },
  {
   "cell_type": "code",
   "execution_count": 6,
   "metadata": {
    "ExecuteTime": {
     "end_time": "2020-05-29T18:30:14.639995Z",
     "start_time": "2020-05-29T18:30:14.637470Z"
    }
   },
   "outputs": [],
   "source": [
    "X = emp_df['Title']\n",
    "y = emp_df['Remuneration_class']\n",
    "X_col = ['Title']"
   ]
  },
  {
   "cell_type": "code",
   "execution_count": 7,
   "metadata": {
    "ExecuteTime": {
     "end_time": "2020-05-29T18:30:15.181093Z",
     "start_time": "2020-05-29T18:30:15.165596Z"
    }
   },
   "outputs": [],
   "source": [
    "def test_train_split(X, y, test_size=0.33, random_state=1):\n",
    "    sss = StratifiedShuffleSplit(n_splits=1, test_size=test_size, random_state=random_state)\n",
    "    sss.get_n_splits(X, y)\n",
    "    for train_index, test_index in sss.split(X, y):\n",
    "        #print(\"TRAIN:\", train_index, \"TEST:\", test_index)\n",
    "        X_train, X_test = X.loc[train_index], X.loc[test_index]\n",
    "        y_train, y_test = y.loc[train_index], y.loc[test_index]\n",
    "\n",
    "    return X_train, X_test, y_train, y_test\n",
    "\n",
    "X_train, X_test, y_train, y_test = test_train_split(X, y)\n",
    "sample_X_train, sample_y_train, sample_X_test, sample_y_test = X_train, y_train, X_test, y_test"
   ]
  },
  {
   "cell_type": "markdown",
   "metadata": {},
   "source": [
    "## Experiments"
   ]
  },
  {
   "cell_type": "code",
   "execution_count": 9,
   "metadata": {
    "ExecuteTime": {
     "end_time": "2020-05-29T18:30:18.294936Z",
     "start_time": "2020-05-29T18:30:18.291169Z"
    }
   },
   "outputs": [],
   "source": [
    "def experiments(encoder, dim_red=None,\n",
    "                model=LGBMClassifier(is_unbalance='True')):\n",
    "    if dim_red:\n",
    "        pipeline = Pipeline([\n",
    "        ('enc', encoder),\n",
    "        ('dim_red', dim_red),\n",
    "        ('clf', model)\n",
    "         ])\n",
    "    else:\n",
    "        pipeline = Pipeline([\n",
    "        ('enc', encoder),\n",
    "        ('clf', model)\n",
    "         ])\n",
    "    pipeline.fit(sample_X_train, sample_y_train)\n",
    "    pred = pipeline.predict(sample_X_test)\n",
    "    return(pipeline, classification_report(sample_y_test, pred))\n",
    "        "
   ]
  },
  {
   "cell_type": "markdown",
   "metadata": {},
   "source": [
    "## Encoders\n",
    "\n",
    "\n",
    "### Integer Encoder\n",
    "\n",
    "* Process\n",
    "    * Base: N\n",
    "    * Convert categories to integers\n",
    "    * For example, all Civil Engineer I will be represented by integer k\n",
    "* Pros\n",
    "    * Easy to implement and use\n",
    "    * Least number of output vector dimensions\n",
    "* Cons\n",
    "    * Usually a poor choice as it adds random ordinality. In other words, the distances between categories are distorted which can give unreliable results\n"
   ]
  },
  {
   "cell_type": "code",
   "execution_count": 10,
   "metadata": {
    "ExecuteTime": {
     "end_time": "2020-05-29T18:00:01.023770Z",
     "start_time": "2020-05-29T17:59:49.471838Z"
    }
   },
   "outputs": [
    {
     "name": "stdout",
     "output_type": "stream",
     "text": [
      "              precision    recall  f1-score   support\n",
      "\n",
      "       False       0.80      0.72      0.76      5214\n",
      "        True       0.60      0.71      0.65      3145\n",
      "\n",
      "    accuracy                           0.71      8359\n",
      "   macro avg       0.70      0.71      0.70      8359\n",
      "weighted avg       0.73      0.71      0.72      8359\n",
      "\n"
     ]
    }
   ],
   "source": [
    "preprocessor = ColumnEncoder('OrdinalEncoder')\n",
    "pipe_ie, report = experiments(preprocessor)\n",
    "print(report)"
   ]
  },
  {
   "cell_type": "markdown",
   "metadata": {},
   "source": [
    "### Binary Encoder\n",
    "\n",
    "* Process\n",
    "    * Base: 2\n",
    "    * First, encode the categories as integers\n",
    "    * Convert integers into binary code\n",
    "    * Split digits from that binary string into separate feature columns\n",
    "\n",
    "* Pros\n",
    "    * Encodes the data in relatively fewer dimensions\n",
    "* Cons\n",
    "    * There is still some distortion of distances between categories\n",
    "    * Inverse mapping wouldn’t be perfect\n",
    "    * For e.g., if we have four categories: 00, 01, 10, 11 then we have two features. If first feature is 0 it could mean both 00, and 01\n"
   ]
  },
  {
   "cell_type": "code",
   "execution_count": 11,
   "metadata": {
    "ExecuteTime": {
     "end_time": "2020-05-27T19:49:18.222645Z",
     "start_time": "2020-05-27T19:49:04.548211Z"
    },
    "scrolled": true
   },
   "outputs": [
    {
     "name": "stdout",
     "output_type": "stream",
     "text": [
      "              precision    recall  f1-score   support\n",
      "\n",
      "       False       0.82      0.77      0.79      5214\n",
      "        True       0.65      0.72      0.69      3145\n",
      "\n",
      "    accuracy                           0.75      8359\n",
      "   macro avg       0.74      0.75      0.74      8359\n",
      "weighted avg       0.76      0.75      0.75      8359\n",
      "\n"
     ]
    }
   ],
   "source": [
    "preprocessor = ColumnEncoder('BinaryEncoder')\n",
    "pipe_be, report = experiments(preprocessor)\n",
    "print(report)"
   ]
  },
  {
   "cell_type": "markdown",
   "metadata": {},
   "source": [
    "### One Hot Encoder\n",
    "\n",
    "* Process\n",
    "    * Base: 1\n",
    "    * Create one column per category \n",
    "    * Mark it 1 if the category is present in the row, 0 if it is not\n",
    "\n",
    "* Pros\n",
    "    * Does not distort distance between the categories\n",
    "* Cons\n",
    "    * Results in a very high dimension that is difficult to manipulate\n"
   ]
  },
  {
   "cell_type": "code",
   "execution_count": 29,
   "metadata": {
    "ExecuteTime": {
     "end_time": "2020-05-29T18:00:17.221021Z",
     "start_time": "2020-05-29T18:00:01.025309Z"
    },
    "code_folding": [],
    "scrolled": true
   },
   "outputs": [
    {
     "name": "stdout",
     "output_type": "stream",
     "text": [
      "              precision    recall  f1-score   support\n",
      "\n",
      "       False       0.83      0.63      0.71      5214\n",
      "        True       0.56      0.79      0.66      3145\n",
      "\n",
      "    accuracy                           0.69      8359\n",
      "   macro avg       0.70      0.71      0.69      8359\n",
      "weighted avg       0.73      0.69      0.69      8359\n",
      "\n"
     ]
    }
   ],
   "source": [
    "preprocessor = ColumnEncoder('OneHotEncoder')\n",
    "pipe_ohe, report = experiments(preprocessor)\n",
    "print(report)"
   ]
  },
  {
   "cell_type": "markdown",
   "metadata": {},
   "source": [
    "### Hashing Encoder\n",
    "\n",
    "This encoder uses the hashing trick to represent a high dimension space in a low dimension space while preserving sparsity. \n",
    "\n",
    "* Process\n",
    "    * Convert variable to string “variable=category”, e.g., “modelname=Intel”\n",
    "    * Convert this string to an integer using a hashing function\n",
    "    * Modulo this integer by length of output vector required\n",
    "    * Use that index for indicator 1 (Essentially one hot encoding in lower dimension)\n",
    "* Pros\n",
    "    * Fast and saves memory as lower dimension\n",
    "    * Can use it for multiple categorical variables at the same time\n",
    "\n",
    "* Cons\n",
    "    * Collisions happen if the output vector size is small\n",
    "    * No inverse mapping so no interpretation\n"
   ]
  },
  {
   "cell_type": "code",
   "execution_count": 13,
   "metadata": {
    "ExecuteTime": {
     "end_time": "2020-05-27T19:50:39.528507Z",
     "start_time": "2020-05-27T19:50:28.338051Z"
    }
   },
   "outputs": [
    {
     "name": "stdout",
     "output_type": "stream",
     "text": [
      "              precision    recall  f1-score   support\n",
      "\n",
      "       False       0.67      0.55      0.60      5214\n",
      "        True       0.42      0.55      0.48      3145\n",
      "\n",
      "    accuracy                           0.55      8359\n",
      "   macro avg       0.55      0.55      0.54      8359\n",
      "weighted avg       0.58      0.55      0.56      8359\n",
      "\n"
     ]
    }
   ],
   "source": [
    "preprocessor = ce.HashingEncoder()\n",
    "pipe_he, report = experiments(preprocessor)\n",
    "print(report)"
   ]
  },
  {
   "cell_type": "markdown",
   "metadata": {},
   "source": [
    "### Word based: Similarity Encoder\n",
    "\n",
    "* Process\n",
    "    * Create one column per category\n",
    "    * Define n-gram similarity \n",
    "    * For each category, compare similarity with other categories\n",
    "    * Instead of 0 and 1 in one hot encoding use similarity value\n",
    "    * E.g. Categories: Associate Software Developer, Software Developer, Senior Software Developer\n",
    "\n",
    "* Pros\n",
    "    * In high cardinality categorical variables different entries are often variations on the same entities\n",
    "    * Using simple one-hot encoding will create orthogonal features, whereas it is clear that those 3 terms have a lot in common.\n",
    "    * If we wanted to use word embedding methods such as word2vec, we would have to go through a cleaning phase: those algorithms are not trained to work on data such as ‘Accountant/Auditor I’. However, this can be error prone and time consuming.\n",
    "    * The high dimensions can be meaningfully reduced to lower dimensions: All the categories in the above example to the category Software developer.\n",
    "\n",
    "* Cons\n",
    "    * High dimensionial output vector\n"
   ]
  },
  {
   "cell_type": "code",
   "execution_count": 16,
   "metadata": {
    "ExecuteTime": {
     "end_time": "2020-05-27T19:54:19.028397Z",
     "start_time": "2020-05-27T19:53:45.970358Z"
    }
   },
   "outputs": [
    {
     "name": "stdout",
     "output_type": "stream",
     "text": [
      "              precision    recall  f1-score   support\n",
      "\n",
      "       False       0.85      0.82      0.83      5214\n",
      "        True       0.72      0.76      0.74      3145\n",
      "\n",
      "    accuracy                           0.80      8359\n",
      "   macro avg       0.78      0.79      0.78      8359\n",
      "weighted avg       0.80      0.80      0.80      8359\n",
      "\n"
     ]
    }
   ],
   "source": [
    "preprocessor = ColumnEncoder('SimilarityEncoder')\n",
    "pipe_se, report = experiments(preprocessor,\n",
    "                              dim_red=TruncatedSVD(n_components=100))\n",
    "print(report)"
   ]
  },
  {
   "cell_type": "code",
   "execution_count": 17,
   "metadata": {
    "ExecuteTime": {
     "end_time": "2020-05-27T19:55:51.135503Z",
     "start_time": "2020-05-27T19:54:22.022833Z"
    }
   },
   "outputs": [
    {
     "name": "stdout",
     "output_type": "stream",
     "text": [
      "              precision    recall  f1-score   support\n",
      "\n",
      "       False       0.85      0.81      0.83      5214\n",
      "        True       0.71      0.76      0.74      3145\n",
      "\n",
      "    accuracy                           0.79      8359\n",
      "   macro avg       0.78      0.79      0.78      8359\n",
      "weighted avg       0.80      0.79      0.80      8359\n",
      "\n"
     ]
    }
   ],
   "source": [
    "preprocessor = ColumnEncoder('SimilarityEncoder')\n",
    "pipe_se, report = experiments(preprocessor)\n",
    "print(report)"
   ]
  },
  {
   "cell_type": "markdown",
   "metadata": {},
   "source": [
    "### Online Gamma Poisson Factorization [(paper)](https://arxiv.org/pdf/1907.01860.pdf)\n",
    "* Process\n",
    "    * Estimates a decomposition of the string entries in terms of a linear combination of latent categories.\n",
    "    * Similar to LDA for finding topics in documents but since the string entries here are much shorter than text documents and can contain typos, it uses ngrams level representation.\n",
    "\n",
    "* Pros\n",
    "    * Low number of dimensions\n",
    "    * The reduced dimensions can be interpreted as a combination of topic words and hence it has some degree of interpretability\n",
    "* Cons\n",
    "    * Works only with variables that have meaningful substring overlaps \n",
    "    * The interpretations are probabilistic\n"
   ]
  },
  {
   "cell_type": "code",
   "execution_count": 12,
   "metadata": {
    "ExecuteTime": {
     "end_time": "2020-05-30T00:51:03.037199Z",
     "start_time": "2020-05-30T00:51:03.020100Z"
    }
   },
   "outputs": [
    {
     "name": "stdout",
     "output_type": "stream",
     "text": [
      "[[49.]\n",
      " [45.]\n",
      " [60.]\n",
      " ...\n",
      " [57.]\n",
      " [24.]\n",
      " [29.]] 10\n",
      "              precision    recall  f1-score   support\n",
      "\n",
      "       False       0.85      0.81      0.83      5214\n",
      "        True       0.71      0.76      0.73      3145\n",
      "\n",
      "    accuracy                           0.79      8359\n",
      "   macro avg       0.78      0.79      0.78      8359\n",
      "weighted avg       0.80      0.79      0.79      8359\n",
      "\n"
     ]
    }
   ],
   "source": [
    "preprocessor = ColumnEncoder('OnlineGammaPoissonFactorization', ngram_range=(2, 4), n_components=10)\n",
    "pipe_ogpf, report = experiments(preprocessor)\n",
    "print(report)"
   ]
  },
  {
   "cell_type": "markdown",
   "metadata": {},
   "source": [
    "### Interpretation using this encoder\n",
    "* The encoder converts the data into ouptut vector of length 10 (10 components)\n",
    "* The following list shows dominant keywords in each of the 10 components"
   ]
  },
  {
   "cell_type": "code",
   "execution_count": 16,
   "metadata": {
    "ExecuteTime": {
     "end_time": "2020-05-29T18:35:18.668229Z",
     "start_time": "2020-05-29T18:35:18.525721Z"
    }
   },
   "outputs": [
    {
     "data": {
      "text/plain": [
       "['inspector, electrical, buildings',\n",
       " 'lieutenant, prevention, captain',\n",
       " 'firefighter, fire, refm',\n",
       " 'consultant, accountant, coordination',\n",
       " 'journeyman, subforeman, mechanic',\n",
       " 'partnerships, emergency, manager',\n",
       " 'planner, plannner, solicitor',\n",
       " 'superintendent, equipment, supervisor',\n",
       " 'programmer, business, systems',\n",
       " 'application, applications, technology']"
      ]
     },
     "execution_count": 16,
     "metadata": {},
     "output_type": "execute_result"
    }
   ],
   "source": [
    "pipe_ogpf['enc'].get_feature_names()"
   ]
  },
  {
   "cell_type": "markdown",
   "metadata": {},
   "source": [
    "### Results\n",
    "* Weighted average f1-score\n",
    "\n",
    "    * Integer: 0.72\n",
    "    * Binary: 0.75\n",
    "    * Hashing: 0.56\n",
    "    * One hot: 0.69\n",
    "    * milarity: 0.80\n",
    "    * line Gamma Poisson Factorization: 0.79\n"
   ]
  },
  {
   "cell_type": "markdown",
   "metadata": {},
   "source": [
    "#### Others:  Min Hash encoder"
   ]
  },
  {
   "cell_type": "code",
   "execution_count": 19,
   "metadata": {
    "ExecuteTime": {
     "end_time": "2020-05-27T22:19:34.522054Z",
     "start_time": "2020-05-27T22:18:39.159027Z"
    },
    "scrolled": true
   },
   "outputs": [
    {
     "name": "stdout",
     "output_type": "stream",
     "text": [
      "              precision    recall  f1-score   support\n",
      "\n",
      "       False       0.85      0.81      0.83      5214\n",
      "        True       0.71      0.77      0.74      3145\n",
      "\n",
      "    accuracy                           0.80      8359\n",
      "   macro avg       0.78      0.79      0.79      8359\n",
      "weighted avg       0.80      0.80      0.80      8359\n",
      "\n"
     ]
    }
   ],
   "source": [
    "preprocessor = ColumnEncoder('MinHashEncoder', n_components=300)\n",
    "pipe_mhe, report = experiments(preprocessor)\n",
    "print(report)"
   ]
  }
 ],
 "metadata": {
  "kernelspec": {
   "display_name": "Python 3",
   "language": "python",
   "name": "python3"
  },
  "language_info": {
   "codemirror_mode": {
    "name": "ipython",
    "version": 3
   },
   "file_extension": ".py",
   "mimetype": "text/x-python",
   "name": "python",
   "nbconvert_exporter": "python",
   "pygments_lexer": "ipython3",
   "version": "3.6.3"
  },
  "toc": {
   "base_numbering": 1,
   "nav_menu": {},
   "number_sections": true,
   "sideBar": true,
   "skip_h1_title": false,
   "title_cell": "Table of Contents",
   "title_sidebar": "Contents",
   "toc_cell": false,
   "toc_position": {},
   "toc_section_display": true,
   "toc_window_display": false
  }
 },
 "nbformat": 4,
 "nbformat_minor": 2
}
