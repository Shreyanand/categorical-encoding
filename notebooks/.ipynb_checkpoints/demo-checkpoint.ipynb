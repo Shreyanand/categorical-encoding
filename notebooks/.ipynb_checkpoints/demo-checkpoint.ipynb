{
 "cells": [
  {
   "cell_type": "markdown",
   "metadata": {},
   "source": [
    "# Categorical Encoding\n",
    "\n",
    "* In this noebook, we experiment with different encdoers, models, and datasets"
   ]
  },
  {
   "cell_type": "code",
   "execution_count": 4,
   "metadata": {
    "ExecuteTime": {
     "end_time": "2020-05-29T18:30:06.408252Z",
     "start_time": "2020-05-29T18:30:05.783423Z"
    },
    "collapsed": true
   },
   "outputs": [
    {
     "name": "stdout",
     "output_type": "stream",
     "text": [
      "Collecting dirty_cat\n",
      "\u001b[?25l  Downloading https://files.pythonhosted.org/packages/8d/84/7de88b45593b71fe8552c3038232502337eb3c0bd4b296361849a20fdabc/dirty_cat-0.0.5-py2.py3-none-any.whl (91kB)\n",
      "\u001b[K     |████████████████████████████████| 92kB 3.7MB/s eta 0:00:011\n",
      "\u001b[?25hCollecting category_encoders\n",
      "\u001b[?25l  Downloading https://files.pythonhosted.org/packages/44/57/fcef41c248701ee62e8325026b90c432adea35555cbc870aff9cfba23727/category_encoders-2.2.2-py2.py3-none-any.whl (80kB)\n",
      "\u001b[K     |████████████████████████████████| 81kB 8.4MB/s eta 0:00:011\n",
      "\u001b[?25hRequirement already satisfied: requests in /opt/app-root/lib/python3.6/site-packages (from dirty_cat) (2.22.0)\n",
      "Requirement already satisfied: numpy in /opt/app-root/lib/python3.6/site-packages (from dirty_cat) (1.17.0)\n",
      "Requirement already satisfied: scipy in /opt/app-root/lib/python3.6/site-packages (from dirty_cat) (1.3.1)\n",
      "Requirement already satisfied: scikit-learn>=0.20 in /opt/app-root/lib/python3.6/site-packages (from dirty_cat) (0.21.3)\n",
      "Collecting patsy>=0.5.1 (from category_encoders)\n",
      "\u001b[?25l  Downloading https://files.pythonhosted.org/packages/ea/0c/5f61f1a3d4385d6bf83b83ea495068857ff8dfb89e74824c6e9eb63286d8/patsy-0.5.1-py2.py3-none-any.whl (231kB)\n",
      "\u001b[K     |████████████████████████████████| 235kB 9.5MB/s eta 0:00:01\n",
      "\u001b[?25hRequirement already satisfied: pandas>=0.21.1 in /opt/app-root/lib/python3.6/site-packages (from category_encoders) (0.23.0)\n",
      "Collecting statsmodels>=0.9.0 (from category_encoders)\n",
      "\u001b[?25l  Downloading https://files.pythonhosted.org/packages/cb/83/540fd83238a18abe6c2d280fa8e489ac5fcefa1f370f0ca1acd16ae1b860/statsmodels-0.11.1-cp36-cp36m-manylinux1_x86_64.whl (8.7MB)\n",
      "\u001b[K     |████████████████████████████████| 8.7MB 4.7MB/s eta 0:00:01\n",
      "\u001b[?25hRequirement already satisfied: chardet<3.1.0,>=3.0.2 in /opt/app-root/lib/python3.6/site-packages (from requests->dirty_cat) (3.0.4)\n",
      "Requirement already satisfied: idna<2.9,>=2.5 in /opt/app-root/lib/python3.6/site-packages (from requests->dirty_cat) (2.8)\n",
      "Requirement already satisfied: urllib3!=1.25.0,!=1.25.1,<1.26,>=1.21.1 in /opt/app-root/lib/python3.6/site-packages (from requests->dirty_cat) (1.25.3)\n",
      "Requirement already satisfied: certifi>=2017.4.17 in /opt/app-root/lib/python3.6/site-packages (from requests->dirty_cat) (2019.6.16)\n",
      "Requirement already satisfied: joblib>=0.11 in /opt/app-root/lib/python3.6/site-packages (from scikit-learn>=0.20->dirty_cat) (0.13.2)\n",
      "Requirement already satisfied: six in /opt/app-root/lib/python3.6/site-packages (from patsy>=0.5.1->category_encoders) (1.12.0)\n",
      "Requirement already satisfied: pytz>=2011k in /opt/app-root/lib/python3.6/site-packages (from pandas>=0.21.1->category_encoders) (2019.2)\n",
      "Requirement already satisfied: python-dateutil>=2.5.0 in /opt/app-root/lib/python3.6/site-packages (from pandas>=0.21.1->category_encoders) (2.8.0)\n",
      "Installing collected packages: dirty-cat, patsy, statsmodels, category-encoders\n",
      "Successfully installed category-encoders-2.2.2 dirty-cat-0.0.5 patsy-0.5.1 statsmodels-0.11.1\n",
      "\u001b[33mWARNING: You are using pip version 19.2.1, however version 20.1.1 is available.\n",
      "You should consider upgrading via the 'pip install --upgrade pip' command.\u001b[0m\n",
      "Requirement already satisfied: lightgbm in /opt/app-root/lib/python3.6/site-packages (2.3.1)\n",
      "Requirement already satisfied: xgboost in /opt/app-root/lib/python3.6/site-packages (1.1.0)\n",
      "Requirement already satisfied: scipy in /opt/app-root/lib/python3.6/site-packages (from lightgbm) (1.3.1)\n",
      "Requirement already satisfied: scikit-learn in /opt/app-root/lib/python3.6/site-packages (from lightgbm) (0.21.3)\n",
      "Requirement already satisfied: numpy in /opt/app-root/lib/python3.6/site-packages (from lightgbm) (1.17.0)\n",
      "Requirement already satisfied: joblib>=0.11 in /opt/app-root/lib/python3.6/site-packages (from scikit-learn->lightgbm) (0.13.2)\n",
      "\u001b[33mWARNING: You are using pip version 19.2.1, however version 20.1.1 is available.\n",
      "You should consider upgrading via the 'pip install --upgrade pip' command.\u001b[0m\n"
     ]
    },
    {
     "name": "stderr",
     "output_type": "stream",
     "text": [
      "/opt/app-root/lib/python3.6/site-packages/dask/config.py:168: YAMLLoadWarning: calling yaml.load() without Loader=... is deprecated, as the default Loader is unsafe. Please read https://msg.pyyaml.org/load for full details.\n",
      "  data = yaml.load(f.read()) or {}\n",
      "/opt/app-root/lib/python3.6/site-packages/distributed/config.py:20: YAMLLoadWarning: calling yaml.load() without Loader=... is deprecated, as the default Loader is unsafe. Please read https://msg.pyyaml.org/load for full details.\n",
      "  defaults = yaml.load(f)\n"
     ]
    }
   ],
   "source": [
    "# !pip install dirty_cat category_encoders\n",
    "# !pip install lightgbm xgboost\n",
    "#fasttext\n",
    "\n",
    "from get_data import dataloader\n",
    "from column_encoder import ColumnEncoder #This is where the magic happens\n",
    "from sklearn.compose import ColumnTransformer\n",
    "from sklearn.metrics import classification_report\n",
    "import numpy as np\n",
    "from lightgbm import LGBMClassifier, LGBMRegressor\n",
    "import get_data\n",
    "from joblib import Parallel, delayed\n",
    "import multiprocessing\n",
    "from sklearn.pipeline import Pipeline\n",
    "from sklearn.model_selection import GridSearchCV\n",
    "from sklearn.decomposition import TruncatedSVD\n",
    "from sklearn.metrics import classification_report\n",
    "from sklearn.model_selection import StratifiedShuffleSplit\n",
    "from sklearn.feature_extraction import FeatureHasher\n",
    "import category_encoders as ce\n",
    "import pandas as pd\n",
    "from xgboost import XGBClassifier, XGBRegressor\n",
    "\n",
    "# kc_train = dataloader('data/kaggle_cat_train.csv', \"kaggle_cat\")\n",
    "# kc_train.get_input_target()\n",
    "# kc_test = dataloader('data/kaggle_cat_train.csv', \"kaggle_cat\")\n",
    "# kc_test.get_input_target()\n",
    "# nominal = ['nom_'+str(i) for i in range(0,10)]"
   ]
  },
  {
   "cell_type": "markdown",
   "metadata": {},
   "source": [
    "## Data\n",
    "\n",
    "* Predict using the position title, weather the employee earns more than 100k"
   ]
  },
  {
   "cell_type": "code",
   "execution_count": 5,
   "metadata": {
    "ExecuteTime": {
     "end_time": "2020-05-29T18:30:13.699301Z",
     "start_time": "2020-05-29T18:30:13.655393Z"
    }
   },
   "outputs": [
    {
     "data": {
      "text/html": [
       "<div>\n",
       "<style scoped>\n",
       "    .dataframe tbody tr th:only-of-type {\n",
       "        vertical-align: middle;\n",
       "    }\n",
       "\n",
       "    .dataframe tbody tr th {\n",
       "        vertical-align: top;\n",
       "    }\n",
       "\n",
       "    .dataframe thead th {\n",
       "        text-align: right;\n",
       "    }\n",
       "</style>\n",
       "<table border=\"1\" class=\"dataframe\">\n",
       "  <thead>\n",
       "    <tr style=\"text-align: right;\">\n",
       "      <th></th>\n",
       "      <th>Title</th>\n",
       "      <th>Remuneration_class</th>\n",
       "    </tr>\n",
       "  </thead>\n",
       "  <tbody>\n",
       "    <tr>\n",
       "      <th>0</th>\n",
       "      <td>Fire Captain</td>\n",
       "      <td>True</td>\n",
       "    </tr>\n",
       "    <tr>\n",
       "      <th>1</th>\n",
       "      <td>Trades Ii - Gardener</td>\n",
       "      <td>False</td>\n",
       "    </tr>\n",
       "    <tr>\n",
       "      <th>2</th>\n",
       "      <td>Corporate Compliance Analyst</td>\n",
       "      <td>False</td>\n",
       "    </tr>\n",
       "    <tr>\n",
       "      <th>3</th>\n",
       "      <td>Telecommunications Plant Coordinator</td>\n",
       "      <td>False</td>\n",
       "    </tr>\n",
       "    <tr>\n",
       "      <th>4</th>\n",
       "      <td>Civil Engineer I</td>\n",
       "      <td>False</td>\n",
       "    </tr>\n",
       "    <tr>\n",
       "      <th>5</th>\n",
       "      <td>Property Development Officer Ii</td>\n",
       "      <td>True</td>\n",
       "    </tr>\n",
       "    <tr>\n",
       "      <th>6</th>\n",
       "      <td>Manager Project Management Office</td>\n",
       "      <td>True</td>\n",
       "    </tr>\n",
       "    <tr>\n",
       "      <th>7</th>\n",
       "      <td>Firefighter</td>\n",
       "      <td>True</td>\n",
       "    </tr>\n",
       "    <tr>\n",
       "      <th>8</th>\n",
       "      <td>Firefighter</td>\n",
       "      <td>True</td>\n",
       "    </tr>\n",
       "    <tr>\n",
       "      <th>9</th>\n",
       "      <td>Mgr Regulatory Compl Progm Impl &amp; Admin</td>\n",
       "      <td>True</td>\n",
       "    </tr>\n",
       "    <tr>\n",
       "      <th>10</th>\n",
       "      <td>Supervisor Development Processing</td>\n",
       "      <td>False</td>\n",
       "    </tr>\n",
       "    <tr>\n",
       "      <th>11</th>\n",
       "      <td>Manager Processing Centre Building</td>\n",
       "      <td>True</td>\n",
       "    </tr>\n",
       "    <tr>\n",
       "      <th>12</th>\n",
       "      <td>Firefighter</td>\n",
       "      <td>True</td>\n",
       "    </tr>\n",
       "    <tr>\n",
       "      <th>13</th>\n",
       "      <td>Working Foreman</td>\n",
       "      <td>False</td>\n",
       "    </tr>\n",
       "    <tr>\n",
       "      <th>14</th>\n",
       "      <td>Fire Captain</td>\n",
       "      <td>True</td>\n",
       "    </tr>\n",
       "    <tr>\n",
       "      <th>15</th>\n",
       "      <td>Superintendent Iii</td>\n",
       "      <td>True</td>\n",
       "    </tr>\n",
       "    <tr>\n",
       "      <th>16</th>\n",
       "      <td>Manager Commercial Operations</td>\n",
       "      <td>True</td>\n",
       "    </tr>\n",
       "    <tr>\n",
       "      <th>17</th>\n",
       "      <td>Firefighter</td>\n",
       "      <td>True</td>\n",
       "    </tr>\n",
       "    <tr>\n",
       "      <th>18</th>\n",
       "      <td>Civil Engineer I</td>\n",
       "      <td>False</td>\n",
       "    </tr>\n",
       "    <tr>\n",
       "      <th>19</th>\n",
       "      <td>System Analyst Ii</td>\n",
       "      <td>False</td>\n",
       "    </tr>\n",
       "    <tr>\n",
       "      <th>20</th>\n",
       "      <td>Civil Engineer Ii</td>\n",
       "      <td>False</td>\n",
       "    </tr>\n",
       "    <tr>\n",
       "      <th>21</th>\n",
       "      <td>Equipment Operator V</td>\n",
       "      <td>False</td>\n",
       "    </tr>\n",
       "    <tr>\n",
       "      <th>22</th>\n",
       "      <td>Mgr Regulatory Compl Progm Impl &amp; Admin</td>\n",
       "      <td>False</td>\n",
       "    </tr>\n",
       "    <tr>\n",
       "      <th>23</th>\n",
       "      <td>Property Development Officer I</td>\n",
       "      <td>True</td>\n",
       "    </tr>\n",
       "    <tr>\n",
       "      <th>24</th>\n",
       "      <td>Supervisor Mjr Maintenance/Construction</td>\n",
       "      <td>True</td>\n",
       "    </tr>\n",
       "    <tr>\n",
       "      <th>25</th>\n",
       "      <td>Senior Technical Specialist</td>\n",
       "      <td>True</td>\n",
       "    </tr>\n",
       "    <tr>\n",
       "      <th>26</th>\n",
       "      <td>Firefighter</td>\n",
       "      <td>True</td>\n",
       "    </tr>\n",
       "    <tr>\n",
       "      <th>27</th>\n",
       "      <td>Manager Project Facilitation</td>\n",
       "      <td>True</td>\n",
       "    </tr>\n",
       "    <tr>\n",
       "      <th>28</th>\n",
       "      <td>Firefighter</td>\n",
       "      <td>True</td>\n",
       "    </tr>\n",
       "    <tr>\n",
       "      <th>29</th>\n",
       "      <td>Maintenance Planner</td>\n",
       "      <td>False</td>\n",
       "    </tr>\n",
       "    <tr>\n",
       "      <th>...</th>\n",
       "      <td>...</td>\n",
       "      <td>...</td>\n",
       "    </tr>\n",
       "    <tr>\n",
       "      <th>25298</th>\n",
       "      <td>Fire Rescue Officer</td>\n",
       "      <td>False</td>\n",
       "    </tr>\n",
       "    <tr>\n",
       "      <th>25299</th>\n",
       "      <td>Fire Captain</td>\n",
       "      <td>True</td>\n",
       "    </tr>\n",
       "    <tr>\n",
       "      <th>25300</th>\n",
       "      <td>Manager Operations - QE</td>\n",
       "      <td>True</td>\n",
       "    </tr>\n",
       "    <tr>\n",
       "      <th>25301</th>\n",
       "      <td>Manager Electrical Inspection Branch</td>\n",
       "      <td>True</td>\n",
       "    </tr>\n",
       "    <tr>\n",
       "      <th>25302</th>\n",
       "      <td>Battalion Chief</td>\n",
       "      <td>True</td>\n",
       "    </tr>\n",
       "    <tr>\n",
       "      <th>25303</th>\n",
       "      <td>Branch Head Engineering</td>\n",
       "      <td>True</td>\n",
       "    </tr>\n",
       "    <tr>\n",
       "      <th>25304</th>\n",
       "      <td>Subforeman Iii</td>\n",
       "      <td>False</td>\n",
       "    </tr>\n",
       "    <tr>\n",
       "      <th>25305</th>\n",
       "      <td>Firefighter</td>\n",
       "      <td>False</td>\n",
       "    </tr>\n",
       "    <tr>\n",
       "      <th>25306</th>\n",
       "      <td>Social Planner Il</td>\n",
       "      <td>False</td>\n",
       "    </tr>\n",
       "    <tr>\n",
       "      <th>25307</th>\n",
       "      <td>Manager Research &amp; Planning</td>\n",
       "      <td>True</td>\n",
       "    </tr>\n",
       "    <tr>\n",
       "      <th>25308</th>\n",
       "      <td>Firefighter</td>\n",
       "      <td>False</td>\n",
       "    </tr>\n",
       "    <tr>\n",
       "      <th>25309</th>\n",
       "      <td>Internal Audit Consultant</td>\n",
       "      <td>False</td>\n",
       "    </tr>\n",
       "    <tr>\n",
       "      <th>25310</th>\n",
       "      <td>Firefighter</td>\n",
       "      <td>False</td>\n",
       "    </tr>\n",
       "    <tr>\n",
       "      <th>25311</th>\n",
       "      <td>Director Development Services</td>\n",
       "      <td>True</td>\n",
       "    </tr>\n",
       "    <tr>\n",
       "      <th>25312</th>\n",
       "      <td>Supervisor Recreation Services</td>\n",
       "      <td>False</td>\n",
       "    </tr>\n",
       "    <tr>\n",
       "      <th>25313</th>\n",
       "      <td>Firefighter</td>\n",
       "      <td>False</td>\n",
       "    </tr>\n",
       "    <tr>\n",
       "      <th>25314</th>\n",
       "      <td>Branch Head Engineering</td>\n",
       "      <td>False</td>\n",
       "    </tr>\n",
       "    <tr>\n",
       "      <th>25315</th>\n",
       "      <td>Firefighter</td>\n",
       "      <td>False</td>\n",
       "    </tr>\n",
       "    <tr>\n",
       "      <th>25316</th>\n",
       "      <td>SAP Business Analyst</td>\n",
       "      <td>False</td>\n",
       "    </tr>\n",
       "    <tr>\n",
       "      <th>25317</th>\n",
       "      <td>Fire Lieutenant</td>\n",
       "      <td>False</td>\n",
       "    </tr>\n",
       "    <tr>\n",
       "      <th>25318</th>\n",
       "      <td>Senior Branch Head Engineering</td>\n",
       "      <td>True</td>\n",
       "    </tr>\n",
       "    <tr>\n",
       "      <th>25319</th>\n",
       "      <td>Working Foreman</td>\n",
       "      <td>False</td>\n",
       "    </tr>\n",
       "    <tr>\n",
       "      <th>25320</th>\n",
       "      <td>Firefighter</td>\n",
       "      <td>False</td>\n",
       "    </tr>\n",
       "    <tr>\n",
       "      <th>25321</th>\n",
       "      <td>Deputy Chief License Inspector</td>\n",
       "      <td>True</td>\n",
       "    </tr>\n",
       "    <tr>\n",
       "      <th>25322</th>\n",
       "      <td>SAP Business Analyst</td>\n",
       "      <td>False</td>\n",
       "    </tr>\n",
       "    <tr>\n",
       "      <th>25323</th>\n",
       "      <td>Firefighter</td>\n",
       "      <td>False</td>\n",
       "    </tr>\n",
       "    <tr>\n",
       "      <th>25324</th>\n",
       "      <td>Financial Analyst I</td>\n",
       "      <td>False</td>\n",
       "    </tr>\n",
       "    <tr>\n",
       "      <th>25325</th>\n",
       "      <td>Fire Prevention Inspector</td>\n",
       "      <td>False</td>\n",
       "    </tr>\n",
       "    <tr>\n",
       "      <th>25326</th>\n",
       "      <td>Firefighter</td>\n",
       "      <td>False</td>\n",
       "    </tr>\n",
       "    <tr>\n",
       "      <th>25327</th>\n",
       "      <td>Superintendent I</td>\n",
       "      <td>False</td>\n",
       "    </tr>\n",
       "  </tbody>\n",
       "</table>\n",
       "<p>25328 rows × 2 columns</p>\n",
       "</div>"
      ],
      "text/plain": [
       "                                         Title  Remuneration_class\n",
       "0                                 Fire Captain                True\n",
       "1                         Trades Ii - Gardener               False\n",
       "2                 Corporate Compliance Analyst               False\n",
       "3         Telecommunications Plant Coordinator               False\n",
       "4                             Civil Engineer I               False\n",
       "5              Property Development Officer Ii                True\n",
       "6            Manager Project Management Office                True\n",
       "7                                  Firefighter                True\n",
       "8                                  Firefighter                True\n",
       "9      Mgr Regulatory Compl Progm Impl & Admin                True\n",
       "10           Supervisor Development Processing               False\n",
       "11          Manager Processing Centre Building                True\n",
       "12                                 Firefighter                True\n",
       "13                             Working Foreman               False\n",
       "14                                Fire Captain                True\n",
       "15                          Superintendent Iii                True\n",
       "16               Manager Commercial Operations                True\n",
       "17                                 Firefighter                True\n",
       "18                            Civil Engineer I               False\n",
       "19                           System Analyst Ii               False\n",
       "20                           Civil Engineer Ii               False\n",
       "21                        Equipment Operator V               False\n",
       "22     Mgr Regulatory Compl Progm Impl & Admin               False\n",
       "23              Property Development Officer I                True\n",
       "24     Supervisor Mjr Maintenance/Construction                True\n",
       "25                 Senior Technical Specialist                True\n",
       "26                                 Firefighter                True\n",
       "27                Manager Project Facilitation                True\n",
       "28                                 Firefighter                True\n",
       "29                         Maintenance Planner               False\n",
       "...                                        ...                 ...\n",
       "25298                      Fire Rescue Officer               False\n",
       "25299                             Fire Captain                True\n",
       "25300                  Manager Operations - QE                True\n",
       "25301     Manager Electrical Inspection Branch                True\n",
       "25302                          Battalion Chief                True\n",
       "25303                  Branch Head Engineering                True\n",
       "25304                           Subforeman Iii               False\n",
       "25305                              Firefighter               False\n",
       "25306                        Social Planner Il               False\n",
       "25307              Manager Research & Planning                True\n",
       "25308                              Firefighter               False\n",
       "25309                Internal Audit Consultant               False\n",
       "25310                              Firefighter               False\n",
       "25311            Director Development Services                True\n",
       "25312           Supervisor Recreation Services               False\n",
       "25313                              Firefighter               False\n",
       "25314                  Branch Head Engineering               False\n",
       "25315                              Firefighter               False\n",
       "25316                     SAP Business Analyst               False\n",
       "25317                          Fire Lieutenant               False\n",
       "25318           Senior Branch Head Engineering                True\n",
       "25319                          Working Foreman               False\n",
       "25320                              Firefighter               False\n",
       "25321           Deputy Chief License Inspector                True\n",
       "25322                     SAP Business Analyst               False\n",
       "25323                              Firefighter               False\n",
       "25324                      Financial Analyst I               False\n",
       "25325                Fire Prevention Inspector               False\n",
       "25326                              Firefighter               False\n",
       "25327                         Superintendent I               False\n",
       "\n",
       "[25328 rows x 2 columns]"
      ]
     },
     "execution_count": 5,
     "metadata": {},
     "output_type": "execute_result"
    }
   ],
   "source": [
    "# Data downloaded from here: https://opendata.vancouver.ca/explore/dataset/employee-remuneration-and-expenses-earning-over-75000/export/?disjunctive.department&disjunctive.title&sort=year\n",
    "emp_df = pd.read_csv('public_data/employee.csv', sep=';')[['Title', 'Remuneration']]\n",
    "emp_df['Remuneration_class'] = emp_df['Remuneration'].apply(lambda x: x > 100000)\n",
    "emp_df.drop('Remuneration', axis=1, inplace=True)\n",
    "emp_df"
   ]
  },
  {
   "cell_type": "code",
   "execution_count": 6,
   "metadata": {
    "ExecuteTime": {
     "end_time": "2020-05-29T18:30:14.639995Z",
     "start_time": "2020-05-29T18:30:14.637470Z"
    }
   },
   "outputs": [],
   "source": [
    "X = emp_df['Title']\n",
    "y = emp_df['Remuneration_class']\n",
    "X_col = ['Title']"
   ]
  },
  {
   "cell_type": "code",
   "execution_count": 7,
   "metadata": {
    "ExecuteTime": {
     "end_time": "2020-05-29T18:30:15.181093Z",
     "start_time": "2020-05-29T18:30:15.165596Z"
    }
   },
   "outputs": [],
   "source": [
    "def test_train_split(X, y, test_size=0.33, random_state=1):\n",
    "    sss = StratifiedShuffleSplit(n_splits=1, test_size=test_size, random_state=random_state)\n",
    "    sss.get_n_splits(X, y)\n",
    "    for train_index, test_index in sss.split(X, y):\n",
    "        #print(\"TRAIN:\", train_index, \"TEST:\", test_index)\n",
    "        X_train, X_test = X.loc[train_index], X.loc[test_index]\n",
    "        y_train, y_test = y.loc[train_index], y.loc[test_index]\n",
    "\n",
    "    return X_train, X_test, y_train, y_test\n",
    "\n",
    "X_train, X_test, y_train, y_test = test_train_split(X, y)"
   ]
  },
  {
   "cell_type": "code",
   "execution_count": 8,
   "metadata": {
    "ExecuteTime": {
     "end_time": "2020-05-29T18:30:15.643303Z",
     "start_time": "2020-05-29T18:30:15.641129Z"
    }
   },
   "outputs": [],
   "source": [
    "# sample_X_train = X_train[:2000]\n",
    "# sample_y_train = y_train[:2000]\n",
    "# sample_X_test = X_test[:200]\n",
    "# sample_y_test = y_test[:200]\n",
    "\n",
    "sample_X_train = X_train\n",
    "sample_y_train = y_train\n",
    "sample_X_test = X_test\n",
    "sample_y_test = y_test"
   ]
  },
  {
   "cell_type": "markdown",
   "metadata": {},
   "source": [
    "## EXPERIMENTS"
   ]
  },
  {
   "cell_type": "code",
   "execution_count": 9,
   "metadata": {
    "ExecuteTime": {
     "end_time": "2020-05-29T18:30:18.294936Z",
     "start_time": "2020-05-29T18:30:18.291169Z"
    }
   },
   "outputs": [],
   "source": [
    "def experiments(encoder, dim_red=None,\n",
    "                model=LGBMClassifier(is_unbalance='True')):\n",
    "    if dim_red:\n",
    "        pipeline = Pipeline([\n",
    "        ('enc', encoder),\n",
    "        ('dim_red', dim_red),\n",
    "        ('clf', model)\n",
    "         ])\n",
    "    else:\n",
    "        pipeline = Pipeline([\n",
    "        ('enc', encoder),\n",
    "        ('clf', model)\n",
    "         ])\n",
    "    pipeline.fit(sample_X_train, sample_y_train)\n",
    "    pred = pipeline.predict(sample_X_test)\n",
    "    return(pipeline, classification_report(sample_y_test, pred))\n",
    "        "
   ]
  },
  {
   "cell_type": "markdown",
   "metadata": {},
   "source": [
    "## Encoding\n",
    "\n",
    "### Integer Encoding"
   ]
  },
  {
   "cell_type": "code",
   "execution_count": 10,
   "metadata": {
    "ExecuteTime": {
     "end_time": "2020-05-29T18:00:01.023770Z",
     "start_time": "2020-05-29T17:59:49.471838Z"
    }
   },
   "outputs": [
    {
     "name": "stdout",
     "output_type": "stream",
     "text": [
      "              precision    recall  f1-score   support\n",
      "\n",
      "       False       0.80      0.72      0.76      5214\n",
      "        True       0.60      0.71      0.65      3145\n",
      "\n",
      "    accuracy                           0.71      8359\n",
      "   macro avg       0.70      0.71      0.70      8359\n",
      "weighted avg       0.73      0.71      0.72      8359\n",
      "\n"
     ]
    }
   ],
   "source": [
    "preprocessor = ColumnEncoder('OrdinalEncoder')\n",
    "pipe_ie, report = experiments(preprocessor)\n",
    "print(report)"
   ]
  },
  {
   "cell_type": "markdown",
   "metadata": {},
   "source": [
    "### Binary Encoder"
   ]
  },
  {
   "cell_type": "code",
   "execution_count": 11,
   "metadata": {
    "ExecuteTime": {
     "end_time": "2020-05-27T19:49:18.222645Z",
     "start_time": "2020-05-27T19:49:04.548211Z"
    },
    "scrolled": true
   },
   "outputs": [
    {
     "name": "stdout",
     "output_type": "stream",
     "text": [
      "              precision    recall  f1-score   support\n",
      "\n",
      "       False       0.82      0.77      0.79      5214\n",
      "        True       0.65      0.72      0.69      3145\n",
      "\n",
      "    accuracy                           0.75      8359\n",
      "   macro avg       0.74      0.75      0.74      8359\n",
      "weighted avg       0.76      0.75      0.75      8359\n",
      "\n"
     ]
    }
   ],
   "source": [
    "preprocessor = ColumnEncoder('BinaryEncoder')\n",
    "pipe_be, report = experiments(preprocessor)\n",
    "print(report)"
   ]
  },
  {
   "cell_type": "markdown",
   "metadata": {},
   "source": [
    "### One Hot Encoder"
   ]
  },
  {
   "cell_type": "code",
   "execution_count": 29,
   "metadata": {
    "ExecuteTime": {
     "end_time": "2020-05-29T18:00:17.221021Z",
     "start_time": "2020-05-29T18:00:01.025309Z"
    },
    "code_folding": [],
    "scrolled": true
   },
   "outputs": [
    {
     "name": "stdout",
     "output_type": "stream",
     "text": [
      "              precision    recall  f1-score   support\n",
      "\n",
      "       False       0.83      0.63      0.71      5214\n",
      "        True       0.56      0.79      0.66      3145\n",
      "\n",
      "    accuracy                           0.69      8359\n",
      "   macro avg       0.70      0.71      0.69      8359\n",
      "weighted avg       0.73      0.69      0.69      8359\n",
      "\n"
     ]
    }
   ],
   "source": [
    "preprocessor = ColumnEncoder('OneHotEncoder')\n",
    "pipe_ohe, report = experiments(preprocessor)\n",
    "print(report)"
   ]
  },
  {
   "cell_type": "markdown",
   "metadata": {},
   "source": [
    "### Hashing Encoder"
   ]
  },
  {
   "cell_type": "code",
   "execution_count": 13,
   "metadata": {
    "ExecuteTime": {
     "end_time": "2020-05-27T19:50:39.528507Z",
     "start_time": "2020-05-27T19:50:28.338051Z"
    }
   },
   "outputs": [
    {
     "name": "stdout",
     "output_type": "stream",
     "text": [
      "              precision    recall  f1-score   support\n",
      "\n",
      "       False       0.67      0.55      0.60      5214\n",
      "        True       0.42      0.55      0.48      3145\n",
      "\n",
      "    accuracy                           0.55      8359\n",
      "   macro avg       0.55      0.55      0.54      8359\n",
      "weighted avg       0.58      0.55      0.56      8359\n",
      "\n"
     ]
    }
   ],
   "source": [
    "preprocessor = ce.HashingEncoder()\n",
    "pipe_he, report = experiments(preprocessor)\n",
    "print(report)"
   ]
  },
  {
   "cell_type": "markdown",
   "metadata": {},
   "source": [
    "### Word based: Similarity Encoder"
   ]
  },
  {
   "cell_type": "code",
   "execution_count": 16,
   "metadata": {
    "ExecuteTime": {
     "end_time": "2020-05-27T19:54:19.028397Z",
     "start_time": "2020-05-27T19:53:45.970358Z"
    }
   },
   "outputs": [
    {
     "name": "stdout",
     "output_type": "stream",
     "text": [
      "              precision    recall  f1-score   support\n",
      "\n",
      "       False       0.85      0.82      0.83      5214\n",
      "        True       0.72      0.76      0.74      3145\n",
      "\n",
      "    accuracy                           0.80      8359\n",
      "   macro avg       0.78      0.79      0.78      8359\n",
      "weighted avg       0.80      0.80      0.80      8359\n",
      "\n"
     ]
    }
   ],
   "source": [
    "preprocessor = ColumnEncoder('SimilarityEncoder')\n",
    "pipe_se, report = experiments(preprocessor,\n",
    "                              dim_red=TruncatedSVD(n_components=100))\n",
    "print(report)"
   ]
  },
  {
   "cell_type": "code",
   "execution_count": 17,
   "metadata": {
    "ExecuteTime": {
     "end_time": "2020-05-27T19:55:51.135503Z",
     "start_time": "2020-05-27T19:54:22.022833Z"
    }
   },
   "outputs": [
    {
     "name": "stdout",
     "output_type": "stream",
     "text": [
      "              precision    recall  f1-score   support\n",
      "\n",
      "       False       0.85      0.81      0.83      5214\n",
      "        True       0.71      0.76      0.74      3145\n",
      "\n",
      "    accuracy                           0.79      8359\n",
      "   macro avg       0.78      0.79      0.78      8359\n",
      "weighted avg       0.80      0.79      0.80      8359\n",
      "\n"
     ]
    }
   ],
   "source": [
    "preprocessor = ColumnEncoder('SimilarityEncoder')\n",
    "pipe_se, report = experiments(preprocessor)\n",
    "print(report)"
   ]
  },
  {
   "cell_type": "markdown",
   "metadata": {},
   "source": [
    "### Min Hash encoder"
   ]
  },
  {
   "cell_type": "code",
   "execution_count": 19,
   "metadata": {
    "ExecuteTime": {
     "end_time": "2020-05-27T22:19:34.522054Z",
     "start_time": "2020-05-27T22:18:39.159027Z"
    },
    "scrolled": true
   },
   "outputs": [
    {
     "name": "stdout",
     "output_type": "stream",
     "text": [
      "              precision    recall  f1-score   support\n",
      "\n",
      "       False       0.85      0.81      0.83      5214\n",
      "        True       0.71      0.77      0.74      3145\n",
      "\n",
      "    accuracy                           0.80      8359\n",
      "   macro avg       0.78      0.79      0.79      8359\n",
      "weighted avg       0.80      0.80      0.80      8359\n",
      "\n"
     ]
    }
   ],
   "source": [
    "preprocessor = ColumnEncoder('MinHashEncoder', n_components=300)\n",
    "pipe_mhe, report = experiments(preprocessor)\n",
    "print(report)"
   ]
  },
  {
   "cell_type": "markdown",
   "metadata": {},
   "source": [
    "### Online Gamma Poisson Factorization"
   ]
  },
  {
   "cell_type": "code",
   "execution_count": null,
   "metadata": {
    "ExecuteTime": {
     "end_time": "2020-05-30T00:51:03.037199Z",
     "start_time": "2020-05-30T00:51:03.020100Z"
    }
   },
   "outputs": [],
   "source": [
    "preprocessor = ColumnEncoder('OnlineGammaPoissonFactorization', ngram_range=(2, 4), n_components=10)\n",
    "pipe_ogpf, report = experiments(preprocessor)\n",
    "print(report)"
   ]
  },
  {
   "cell_type": "code",
   "execution_count": 16,
   "metadata": {
    "ExecuteTime": {
     "end_time": "2020-05-29T18:35:18.668229Z",
     "start_time": "2020-05-29T18:35:18.525721Z"
    }
   },
   "outputs": [
    {
     "data": {
      "text/plain": [
       "['inspector, electrical, buildings',\n",
       " 'lieutenant, prevention, captain',\n",
       " 'firefighter, fire, refm',\n",
       " 'consultant, accountant, coordination',\n",
       " 'journeyman, subforeman, mechanic',\n",
       " 'partnerships, emergency, manager',\n",
       " 'planner, plannner, solicitor',\n",
       " 'superintendent, equipment, supervisor',\n",
       " 'programmer, business, systems',\n",
       " 'application, applications, technology']"
      ]
     },
     "execution_count": 16,
     "metadata": {},
     "output_type": "execute_result"
    }
   ],
   "source": [
    "pipe_ogpf['enc'].get_feature_names()"
   ]
  }
 ],
 "metadata": {
  "kernelspec": {
   "display_name": "Python 3",
   "language": "python",
   "name": "python3"
  },
  "language_info": {
   "codemirror_mode": {
    "name": "ipython",
    "version": 3
   },
   "file_extension": ".py",
   "mimetype": "text/x-python",
   "name": "python",
   "nbconvert_exporter": "python",
   "pygments_lexer": "ipython3",
   "version": "3.6.3"
  },
  "toc": {
   "base_numbering": 1,
   "nav_menu": {},
   "number_sections": true,
   "sideBar": true,
   "skip_h1_title": false,
   "title_cell": "Table of Contents",
   "title_sidebar": "Contents",
   "toc_cell": false,
   "toc_position": {},
   "toc_section_display": true,
   "toc_window_display": false
  }
 },
 "nbformat": 4,
 "nbformat_minor": 2
}
