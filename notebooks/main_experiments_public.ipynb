{
 "cells": [
  {
   "cell_type": "markdown",
   "metadata": {},
   "source": [
    "# Categorical Encoding\n",
    "\n",
    "* In this noebook, we experiment with different encdoers, models, and datasets"
   ]
  },
  {
   "cell_type": "code",
   "execution_count": 2,
   "metadata": {
    "ExecuteTime": {
     "end_time": "2020-05-22T20:53:00.295255Z",
     "start_time": "2020-05-22T20:53:00.127764Z"
    },
    "scrolled": true
   },
   "outputs": [],
   "source": [
    "# !pip install fasttext dirty_cat category_encoders\n",
    "# !pip install lightgbm xgboost"
   ]
  },
  {
   "cell_type": "code",
   "execution_count": 13,
   "metadata": {
    "ExecuteTime": {
     "end_time": "2020-05-26T21:25:34.032554Z",
     "start_time": "2020-05-26T21:25:34.028477Z"
    },
    "scrolled": false
   },
   "outputs": [],
   "source": [
    "from get_data import dataloader\n",
    "from column_encoder import ColumnEncoder #This is where the magic happens\n",
    "from sklearn.compose import ColumnTransformer\n",
    "from sklearn.metrics import classification_report\n",
    "import numpy as np\n",
    "from lightgbm import LGBMClassifier, LGBMRegressor\n",
    "import get_data\n",
    "from joblib import Parallel, delayed\n",
    "import multiprocessing\n",
    "from sklearn.pipeline import Pipeline\n",
    "from sklearn.model_selection import GridSearchCV\n",
    "from sklearn.decomposition import TruncatedSVD\n",
    "from sklearn.metrics import classification_report\n",
    "from sklearn.model_selection import StratifiedShuffleSplit\n",
    "from sklearn.feature_extraction import FeatureHasher\n",
    "import category_encoders as ce\n",
    "import pandas as pd\n",
    "\n",
    "#from xgboost import XGBClassifier, XGBRegressor\n",
    "\n",
    "# kc_train = dataloader('data/kaggle_cat_train.csv', \"kaggle_cat\")\n",
    "# kc_train.get_input_target()\n",
    "# kc_test = dataloader('data/kaggle_cat_train.csv', \"kaggle_cat\")\n",
    "# kc_test.get_input_target()\n",
    "# nominal = ['nom_'+str(i) for i in range(0,10)]"
   ]
  },
  {
   "cell_type": "markdown",
   "metadata": {},
   "source": [
    "## Data\n",
    "\n",
    "* Predict using the position title, weather the employee earns more than 100k"
   ]
  },
  {
   "cell_type": "code",
   "execution_count": 58,
   "metadata": {
    "ExecuteTime": {
     "end_time": "2020-05-26T22:04:15.377373Z",
     "start_time": "2020-05-26T22:04:15.338301Z"
    }
   },
   "outputs": [
    {
     "data": {
      "text/html": [
       "<div>\n",
       "<style scoped>\n",
       "    .dataframe tbody tr th:only-of-type {\n",
       "        vertical-align: middle;\n",
       "    }\n",
       "\n",
       "    .dataframe tbody tr th {\n",
       "        vertical-align: top;\n",
       "    }\n",
       "\n",
       "    .dataframe thead th {\n",
       "        text-align: right;\n",
       "    }\n",
       "</style>\n",
       "<table border=\"1\" class=\"dataframe\">\n",
       "  <thead>\n",
       "    <tr style=\"text-align: right;\">\n",
       "      <th></th>\n",
       "      <th>Title</th>\n",
       "      <th>Remuneration_class</th>\n",
       "    </tr>\n",
       "  </thead>\n",
       "  <tbody>\n",
       "    <tr>\n",
       "      <th>0</th>\n",
       "      <td>Fire Captain</td>\n",
       "      <td>True</td>\n",
       "    </tr>\n",
       "    <tr>\n",
       "      <th>1</th>\n",
       "      <td>Trades Ii - Gardener</td>\n",
       "      <td>False</td>\n",
       "    </tr>\n",
       "    <tr>\n",
       "      <th>2</th>\n",
       "      <td>Corporate Compliance Analyst</td>\n",
       "      <td>False</td>\n",
       "    </tr>\n",
       "    <tr>\n",
       "      <th>3</th>\n",
       "      <td>Telecommunications Plant Coordinator</td>\n",
       "      <td>False</td>\n",
       "    </tr>\n",
       "    <tr>\n",
       "      <th>4</th>\n",
       "      <td>Civil Engineer I</td>\n",
       "      <td>False</td>\n",
       "    </tr>\n",
       "    <tr>\n",
       "      <th>...</th>\n",
       "      <td>...</td>\n",
       "      <td>...</td>\n",
       "    </tr>\n",
       "    <tr>\n",
       "      <th>25323</th>\n",
       "      <td>Firefighter</td>\n",
       "      <td>False</td>\n",
       "    </tr>\n",
       "    <tr>\n",
       "      <th>25324</th>\n",
       "      <td>Financial Analyst I</td>\n",
       "      <td>False</td>\n",
       "    </tr>\n",
       "    <tr>\n",
       "      <th>25325</th>\n",
       "      <td>Fire Prevention Inspector</td>\n",
       "      <td>False</td>\n",
       "    </tr>\n",
       "    <tr>\n",
       "      <th>25326</th>\n",
       "      <td>Firefighter</td>\n",
       "      <td>False</td>\n",
       "    </tr>\n",
       "    <tr>\n",
       "      <th>25327</th>\n",
       "      <td>Superintendent I</td>\n",
       "      <td>False</td>\n",
       "    </tr>\n",
       "  </tbody>\n",
       "</table>\n",
       "<p>25328 rows × 2 columns</p>\n",
       "</div>"
      ],
      "text/plain": [
       "                                      Title  Remuneration_class\n",
       "0                              Fire Captain                True\n",
       "1                      Trades Ii - Gardener               False\n",
       "2              Corporate Compliance Analyst               False\n",
       "3      Telecommunications Plant Coordinator               False\n",
       "4                          Civil Engineer I               False\n",
       "...                                     ...                 ...\n",
       "25323                           Firefighter               False\n",
       "25324                   Financial Analyst I               False\n",
       "25325             Fire Prevention Inspector               False\n",
       "25326                           Firefighter               False\n",
       "25327                      Superintendent I               False\n",
       "\n",
       "[25328 rows x 2 columns]"
      ]
     },
     "execution_count": 58,
     "metadata": {},
     "output_type": "execute_result"
    }
   ],
   "source": [
    "# Data downloaded from here: https://opendata.vancouver.ca/explore/dataset/employee-remuneration-and-expenses-earning-over-75000/export/?disjunctive.department&disjunctive.title&sort=year\n",
    "emp_df = pd.read_csv('public_data/employee.csv', sep=';')[['Title', 'Remuneration']]\n",
    "emp_df['Remuneration_class'] = emp_df['Remuneration'].apply(lambda x: x > 100000)\n",
    "emp_df.drop('Remuneration', axis=1, inplace=True)\n",
    "emp_df"
   ]
  },
  {
   "cell_type": "code",
   "execution_count": 43,
   "metadata": {
    "ExecuteTime": {
     "end_time": "2020-05-26T21:50:39.121445Z",
     "start_time": "2020-05-26T21:50:39.119009Z"
    }
   },
   "outputs": [],
   "source": [
    "X = emp_df['Title']\n",
    "y = emp_df['Remuneration_class']\n",
    "X_col = ['Title']"
   ]
  },
  {
   "cell_type": "code",
   "execution_count": 38,
   "metadata": {
    "ExecuteTime": {
     "end_time": "2020-05-26T21:49:54.098933Z",
     "start_time": "2020-05-26T21:49:54.083421Z"
    }
   },
   "outputs": [],
   "source": [
    "def test_train_split(X, y, test_size=0.33, random_state=1):\n",
    "    sss = StratifiedShuffleSplit(n_splits=1, test_size=test_size, random_state=random_state)\n",
    "    sss.get_n_splits(X, y)\n",
    "    for train_index, test_index in sss.split(X, y):\n",
    "        #print(\"TRAIN:\", train_index, \"TEST:\", test_index)\n",
    "        X_train, X_test = X.loc[train_index], X.loc[test_index]\n",
    "        y_train, y_test = y.loc[train_index], y.loc[test_index]\n",
    "\n",
    "    return X_train, X_test, y_train, y_test\n",
    "\n",
    "X_train, X_test, y_train, y_test = test_train_split(X, y)"
   ]
  },
  {
   "cell_type": "code",
   "execution_count": 51,
   "metadata": {
    "ExecuteTime": {
     "end_time": "2020-05-26T21:54:06.490106Z",
     "start_time": "2020-05-26T21:54:06.487794Z"
    }
   },
   "outputs": [],
   "source": [
    "# sample_X_train = X_train[:2000]\n",
    "# sample_y_train = y_train[:2000]\n",
    "# sample_X_test = X_test[:200]\n",
    "# sample_y_test = y_test[:200]\n",
    "\n",
    "sample_X_train = X_train\n",
    "sample_y_train = y_train\n",
    "sample_X_test = X_test\n",
    "sample_y_test = y_test"
   ]
  },
  {
   "cell_type": "markdown",
   "metadata": {},
   "source": [
    "## Encoding\n",
    "\n",
    "### Integer Encoding"
   ]
  },
  {
   "cell_type": "code",
   "execution_count": 52,
   "metadata": {
    "ExecuteTime": {
     "end_time": "2020-05-26T21:54:40.724853Z",
     "start_time": "2020-05-26T21:54:27.636617Z"
    }
   },
   "outputs": [
    {
     "name": "stdout",
     "output_type": "stream",
     "text": [
      "              precision    recall  f1-score   support\n",
      "\n",
      "       False       0.80      0.72      0.76      5214\n",
      "        True       0.60      0.71      0.65      3145\n",
      "\n",
      "    accuracy                           0.71      8359\n",
      "   macro avg       0.70      0.71      0.70      8359\n",
      "weighted avg       0.73      0.71      0.72      8359\n",
      "\n"
     ]
    }
   ],
   "source": [
    "#from sklearn.preprocessing import OrdinalEncoder\n",
    "#preprocessor = ColumnTransformer([(col, ColumnEncoder('OrdinalEncoder'), col) for col in X_col])\n",
    "preprocessor = ColumnEncoder('OrdinalEncoder')\n",
    "pipeline_le = Pipeline([\n",
    "    ('enc', preprocessor),\n",
    "    ('clf', LGBMClassifier(is_unbalance='True')),\n",
    "     ])\n",
    " #Add param_grid for dimensionality reduction, classifier experiments\n",
    "pipeline_le.fit(sample_X_train, sample_y_train)\n",
    "pred = pipeline_le.predict(sample_X_test)\n",
    "print(classification_report(sample_y_test, pred))"
   ]
  },
  {
   "cell_type": "markdown",
   "metadata": {},
   "source": [
    "### Binary Encoder"
   ]
  },
  {
   "cell_type": "code",
   "execution_count": 53,
   "metadata": {
    "ExecuteTime": {
     "end_time": "2020-05-26T21:55:14.724002Z",
     "start_time": "2020-05-26T21:54:59.499809Z"
    },
    "scrolled": true
   },
   "outputs": [
    {
     "name": "stdout",
     "output_type": "stream",
     "text": [
      "              precision    recall  f1-score   support\n",
      "\n",
      "       False       0.82      0.77      0.79      5214\n",
      "        True       0.65      0.72      0.69      3145\n",
      "\n",
      "    accuracy                           0.75      8359\n",
      "   macro avg       0.74      0.75      0.74      8359\n",
      "weighted avg       0.76      0.75      0.75      8359\n",
      "\n"
     ]
    }
   ],
   "source": [
    "#preprocessor = ColumnTransformer([(col, ColumnEncoder('BinaryEncoder'), col) for col in X_col])\n",
    "preprocessor = ColumnEncoder('BinaryEncoder')\n",
    "pipeline_be = Pipeline([\n",
    "    ('enc', preprocessor),\n",
    "    ('clf', LGBMClassifier(is_unbalance='True')),\n",
    "     ])\n",
    " #Add param_grid for dimensionality reduction, classifier experiments\n",
    "    \n",
    "pipeline_be.fit(sample_X_train, sample_y_train)\n",
    "pred = pipeline_be.predict(sample_X_test)\n",
    "print(classification_report(sample_y_test, pred))"
   ]
  },
  {
   "cell_type": "markdown",
   "metadata": {},
   "source": [
    "### One Hot Encoder"
   ]
  },
  {
   "cell_type": "code",
   "execution_count": 54,
   "metadata": {
    "ExecuteTime": {
     "end_time": "2020-05-26T21:55:55.627407Z",
     "start_time": "2020-05-26T21:55:45.336462Z"
    },
    "code_folding": [],
    "scrolled": true
   },
   "outputs": [
    {
     "name": "stdout",
     "output_type": "stream",
     "text": [
      "              precision    recall  f1-score   support\n",
      "\n",
      "       False       0.83      0.63      0.71      5214\n",
      "        True       0.56      0.79      0.66      3145\n",
      "\n",
      "    accuracy                           0.69      8359\n",
      "   macro avg       0.70      0.71      0.69      8359\n",
      "weighted avg       0.73      0.69      0.69      8359\n",
      "\n"
     ]
    }
   ],
   "source": [
    "#preprocessor = ColumnTransformer([(col, ColumnEncoder('OneHotEncoder'), col) for col in X_col])\n",
    "preprocessor = ColumnEncoder('OneHotEncoder')\n",
    "pipeline_ohe = Pipeline([\n",
    "    ('enc', preprocessor),\n",
    "    ('clf', LGBMClassifier(is_unbalance='True')),\n",
    "     ])\n",
    " #Add param_grid for dimensionality reduction, classifier experiments\n",
    "    \n",
    "pipeline_ohe.fit(sample_X_train, sample_y_train)\n",
    "pred = pipeline_ohe.predict(sample_X_test)\n",
    "print(classification_report(sample_y_test, pred))"
   ]
  },
  {
   "cell_type": "markdown",
   "metadata": {},
   "source": [
    "### Hashing Encoder"
   ]
  },
  {
   "cell_type": "code",
   "execution_count": 55,
   "metadata": {
    "ExecuteTime": {
     "end_time": "2020-05-26T21:56:06.724425Z",
     "start_time": "2020-05-26T21:55:55.628935Z"
    }
   },
   "outputs": [
    {
     "name": "stdout",
     "output_type": "stream",
     "text": [
      "              precision    recall  f1-score   support\n",
      "\n",
      "       False       0.67      0.55      0.60      5214\n",
      "        True       0.42      0.55      0.48      3145\n",
      "\n",
      "    accuracy                           0.55      8359\n",
      "   macro avg       0.55      0.55      0.54      8359\n",
      "weighted avg       0.58      0.55      0.56      8359\n",
      "\n"
     ]
    }
   ],
   "source": [
    "preprocessor = ce.HashingEncoder()\n",
    "\n",
    "pipeline_fh = Pipeline([\n",
    "    ('enc', preprocessor),\n",
    "    ('clf', LGBMClassifier(is_unbalance='True')),\n",
    "     ])\n",
    " #Add param_grid for dimensionality reduction, classifier experiments\n",
    "    \n",
    "pipeline_fh.fit(sample_X_train, sample_y_train)\n",
    "pred = pipeline_fh.predict(sample_X_test)\n",
    "print(classification_report(sample_y_test, pred))"
   ]
  },
  {
   "cell_type": "markdown",
   "metadata": {},
   "source": [
    "### Word based: Similarity Encoder"
   ]
  },
  {
   "cell_type": "code",
   "execution_count": 56,
   "metadata": {
    "ExecuteTime": {
     "end_time": "2020-05-26T21:57:01.927305Z",
     "start_time": "2020-05-26T21:56:21.996752Z"
    }
   },
   "outputs": [
    {
     "name": "stdout",
     "output_type": "stream",
     "text": [
      "              precision    recall  f1-score   support\n",
      "\n",
      "       False       0.85      0.82      0.83      5214\n",
      "        True       0.71      0.76      0.74      3145\n",
      "\n",
      "    accuracy                           0.79      8359\n",
      "   macro avg       0.78      0.79      0.78      8359\n",
      "weighted avg       0.80      0.79      0.80      8359\n",
      "\n"
     ]
    }
   ],
   "source": [
    "#preprocessor = ColumnTransformer([(col, ColumnEncoder('SimilarityEncoder'), col) for col in X_col])\n",
    "preprocessor = ColumnEncoder('SimilarityEncoder')\n",
    "pipeline_se = Pipeline([\n",
    "    ('enc', preprocessor),\n",
    "    ('svd', TruncatedSVD(n_components=100)),\n",
    "    ('clf', LGBMClassifier(is_unbalance='True')),\n",
    "     ])\n",
    " #Add param_grid for dimensionality reduction, classifier experiments\n",
    "    \n",
    "pipeline_se.fit(sample_X_train, sample_y_train)\n",
    "pred = pipeline_se.predict(sample_X_test)\n",
    "print(classification_report(sample_y_test, pred))"
   ]
  },
  {
   "cell_type": "code",
   "execution_count": 57,
   "metadata": {
    "ExecuteTime": {
     "end_time": "2020-05-26T21:59:01.729111Z",
     "start_time": "2020-05-26T21:57:01.928913Z"
    }
   },
   "outputs": [
    {
     "name": "stdout",
     "output_type": "stream",
     "text": [
      "              precision    recall  f1-score   support\n",
      "\n",
      "       False       0.85      0.81      0.83      5214\n",
      "        True       0.71      0.76      0.74      3145\n",
      "\n",
      "    accuracy                           0.79      8359\n",
      "   macro avg       0.78      0.79      0.78      8359\n",
      "weighted avg       0.80      0.79      0.80      8359\n",
      "\n"
     ]
    }
   ],
   "source": [
    "#preprocessor = ColumnTransformer([(col, ColumnEncoder('SimilarityEncoder'), col) for col in X_col])\n",
    "preprocessor = ColumnEncoder('SimilarityEncoder')\n",
    "pipeline_se = Pipeline([\n",
    "    ('enc', preprocessor),\n",
    "    ('clf', LGBMClassifier(is_unbalance='True')),\n",
    "     ])\n",
    " #Add param_grid for dimensionality reduction, classifier experiments\n",
    "    \n",
    "pipeline_se.fit(sample_X_train, sample_y_train)\n",
    "pred = pipeline_se.predict(sample_X_test)\n",
    "print(classification_report(sample_y_test, pred))"
   ]
  }
 ],
 "metadata": {
  "kernelspec": {
   "display_name": "Python 3",
   "language": "python",
   "name": "python3"
  },
  "language_info": {
   "codemirror_mode": {
    "name": "ipython",
    "version": 3
   },
   "file_extension": ".py",
   "mimetype": "text/x-python",
   "name": "python",
   "nbconvert_exporter": "python",
   "pygments_lexer": "ipython3",
   "version": "3.6.8"
  },
  "toc": {
   "base_numbering": 1,
   "nav_menu": {},
   "number_sections": true,
   "sideBar": true,
   "skip_h1_title": false,
   "title_cell": "Table of Contents",
   "title_sidebar": "Contents",
   "toc_cell": false,
   "toc_position": {},
   "toc_section_display": true,
   "toc_window_display": false
  }
 },
 "nbformat": 4,
 "nbformat_minor": 2
}
