{
 "cells": [
  {
   "cell_type": "markdown",
   "metadata": {},
   "source": [
    "# Categorical Encoding\n",
    "\n",
    "* In this noebook, we experiment with different encdoers, models, and datasets"
   ]
  },
  {
   "cell_type": "code",
   "execution_count": 2,
   "metadata": {
    "ExecuteTime": {
     "end_time": "2020-05-22T20:53:00.295255Z",
     "start_time": "2020-05-22T20:53:00.127764Z"
    },
    "scrolled": true
   },
   "outputs": [],
   "source": [
    "# !pip install fasttext dirty_cat category_encoders\n",
    "# !pip install lightgbm xgboost"
   ]
  },
  {
   "cell_type": "code",
   "execution_count": 2,
   "metadata": {
    "ExecuteTime": {
     "end_time": "2020-05-29T18:56:29.513892Z",
     "start_time": "2020-05-29T18:56:29.241559Z"
    },
    "scrolled": false
   },
   "outputs": [
    {
     "name": "stderr",
     "output_type": "stream",
     "text": [
      "/opt/app-root/lib/python3.6/site-packages/sklearn/utils/deprecation.py:143: FutureWarning: The sklearn.cluster.k_means_ module is  deprecated in version 0.22 and will be removed in version 0.24. The corresponding classes / functions should instead be imported from sklearn.cluster. Anything that cannot be imported from sklearn.cluster is now part of the private API.\n",
      "  warnings.warn(message, FutureWarning)\n",
      "/opt/app-root/lib/python3.6/site-packages/sklearn/utils/deprecation.py:143: FutureWarning: The sklearn.decomposition.nmf module is  deprecated in version 0.22 and will be removed in version 0.24. The corresponding classes / functions should instead be imported from sklearn.decomposition. Anything that cannot be imported from sklearn.decomposition is now part of the private API.\n",
      "  warnings.warn(message, FutureWarning)\n"
     ]
    }
   ],
   "source": [
    "from get_data import dataloader\n",
    "from column_encoder import ColumnEncoder #This is where the magic happens\n",
    "from sklearn.compose import ColumnTransformer\n",
    "from sklearn.metrics import classification_report\n",
    "import numpy as np\n",
    "from lightgbm import LGBMClassifier, LGBMRegressor\n",
    "import get_data\n",
    "from joblib import Parallel, delayed\n",
    "import multiprocessing\n",
    "from sklearn.pipeline import Pipeline\n",
    "from sklearn.model_selection import GridSearchCV\n",
    "from sklearn.decomposition import TruncatedSVD\n",
    "from sklearn.metrics import classification_report\n",
    "from sklearn.model_selection import StratifiedShuffleSplit\n",
    "from sklearn.feature_extraction import FeatureHasher\n",
    "import category_encoders as ce\n",
    "#from xgboost import XGBClassifier, XGBRegressor\n",
    "\n",
    "# kc_train = dataloader('data/kaggle_cat_train.csv', \"kaggle_cat\")\n",
    "# kc_train.get_input_target()\n",
    "# kc_test = dataloader('data/kaggle_cat_train.csv', \"kaggle_cat\")\n",
    "# kc_test.get_input_target()\n",
    "# nominal = ['nom_'+str(i) for i in range(0,10)]"
   ]
  },
  {
   "cell_type": "markdown",
   "metadata": {},
   "source": [
    "## Data"
   ]
  },
  {
   "cell_type": "code",
   "execution_count": 3,
   "metadata": {
    "ExecuteTime": {
     "end_time": "2020-05-29T18:56:29.606766Z",
     "start_time": "2020-05-29T18:56:29.514971Z"
    }
   },
   "outputs": [],
   "source": [
    "insights = dataloader('data/Insights/insights.csv', \"insights\")\n",
    "insights.get_input_target()\n",
    "X_col = insights.X.columns"
   ]
  },
  {
   "cell_type": "code",
   "execution_count": 4,
   "metadata": {
    "ExecuteTime": {
     "end_time": "2020-05-29T18:56:30.639360Z",
     "start_time": "2020-05-29T18:56:30.592552Z"
    }
   },
   "outputs": [],
   "source": [
    "def test_train_split(X, y, test_size=0.33, random_state=1):\n",
    "    sss = StratifiedShuffleSplit(n_splits=1, test_size=test_size, random_state=random_state)\n",
    "    sss.get_n_splits(X, y)\n",
    "    for train_index, test_index in sss.split(X, y):\n",
    "        #print(\"TRAIN:\", train_index, \"TEST:\", test_index)\n",
    "        X_train, X_test = X.loc[train_index], X.loc[test_index]\n",
    "        y_train, y_test = y.loc[train_index], y.loc[test_index]\n",
    "\n",
    "    return X_train, X_test, y_train, y_test\n",
    "\n",
    "X_train, X_test, y_train, y_test = test_train_split(insights.X, insights.y)"
   ]
  },
  {
   "cell_type": "code",
   "execution_count": 5,
   "metadata": {
    "ExecuteTime": {
     "end_time": "2020-05-29T18:56:31.705322Z",
     "start_time": "2020-05-29T18:56:31.703042Z"
    }
   },
   "outputs": [],
   "source": [
    "# sample_X_train = X_train[:2000]\n",
    "# sample_y_train = y_train[:2000]\n",
    "# sample_X_test = X_test[:200]\n",
    "# sample_y_test = y_test[:200]\n",
    "\n",
    "sample_X_train = X_train\n",
    "sample_y_train = y_train\n",
    "sample_X_test = X_test\n",
    "sample_y_test = y_test"
   ]
  },
  {
   "cell_type": "markdown",
   "metadata": {},
   "source": [
    "## Encoding\n",
    "\n",
    "### Integer Encoding"
   ]
  },
  {
   "cell_type": "code",
   "execution_count": 26,
   "metadata": {
    "ExecuteTime": {
     "end_time": "2020-05-21T00:49:36.212885Z",
     "start_time": "2020-05-21T00:49:36.210779Z"
    }
   },
   "outputs": [],
   "source": [
    "#try class weight"
   ]
  },
  {
   "cell_type": "code",
   "execution_count": 12,
   "metadata": {
    "ExecuteTime": {
     "end_time": "2020-05-26T20:34:32.854987Z",
     "start_time": "2020-05-26T20:34:18.831259Z"
    }
   },
   "outputs": [
    {
     "name": "stdout",
     "output_type": "stream",
     "text": [
      "              precision    recall  f1-score   support\n",
      "\n",
      "           0       0.57      0.77      0.66     13638\n",
      "           1       0.77      0.57      0.65     18305\n",
      "\n",
      "    accuracy                           0.65     31943\n",
      "   macro avg       0.67      0.67      0.65     31943\n",
      "weighted avg       0.69      0.65      0.65     31943\n",
      "\n"
     ]
    }
   ],
   "source": [
    "#from sklearn.preprocessing import OrdinalEncoder\n",
    "preprocessor = ColumnTransformer([(col, ColumnEncoder('OrdinalEncoder'), col) for col in X_col])\n",
    "\n",
    "pipeline_le = Pipeline([\n",
    "    ('enc', preprocessor),\n",
    "    ('clf', LGBMClassifier(is_unbalance='True')),\n",
    "     ])\n",
    " #Add param_grid for dimensionality reduction, classifier experiments\n",
    "pipeline_le.fit(sample_X_train, sample_y_train)\n",
    "pred = pipeline_le.predict(sample_X_test)\n",
    "print(classification_report(sample_y_test, pred))"
   ]
  },
  {
   "cell_type": "markdown",
   "metadata": {},
   "source": [
    "### Binary Encoder"
   ]
  },
  {
   "cell_type": "code",
   "execution_count": 13,
   "metadata": {
    "ExecuteTime": {
     "end_time": "2020-05-26T20:35:50.950489Z",
     "start_time": "2020-05-26T20:34:48.262196Z"
    },
    "scrolled": true
   },
   "outputs": [
    {
     "name": "stdout",
     "output_type": "stream",
     "text": [
      "              precision    recall  f1-score   support\n",
      "\n",
      "           0       0.57      0.77      0.66     13638\n",
      "           1       0.77      0.57      0.65     18305\n",
      "\n",
      "    accuracy                           0.66     31943\n",
      "   macro avg       0.67      0.67      0.66     31943\n",
      "weighted avg       0.69      0.66      0.66     31943\n",
      "\n"
     ]
    }
   ],
   "source": [
    "preprocessor = ColumnTransformer([(col, ColumnEncoder('BinaryEncoder'), col) for col in X_col])\n",
    "\n",
    "pipeline_be = Pipeline([\n",
    "    ('enc', preprocessor),\n",
    "    ('clf', LGBMClassifier(is_unbalance='True')),\n",
    "     ])\n",
    " #Add param_grid for dimensionality reduction, classifier experiments\n",
    "    \n",
    "pipeline_be.fit(sample_X_train, sample_y_train)\n",
    "pred = pipeline_be.predict(sample_X_test)\n",
    "print(classification_report(sample_y_test, pred))"
   ]
  },
  {
   "cell_type": "markdown",
   "metadata": {},
   "source": [
    "### One Hot Encoder"
   ]
  },
  {
   "cell_type": "code",
   "execution_count": 14,
   "metadata": {
    "ExecuteTime": {
     "end_time": "2020-05-26T20:36:08.048309Z",
     "start_time": "2020-05-26T20:35:50.952874Z"
    },
    "code_folding": [],
    "scrolled": true
   },
   "outputs": [
    {
     "name": "stdout",
     "output_type": "stream",
     "text": [
      "              precision    recall  f1-score   support\n",
      "\n",
      "           0       0.57      0.79      0.66     13638\n",
      "           1       0.78      0.56      0.65     18305\n",
      "\n",
      "    accuracy                           0.66     31943\n",
      "   macro avg       0.67      0.67      0.66     31943\n",
      "weighted avg       0.69      0.66      0.65     31943\n",
      "\n"
     ]
    }
   ],
   "source": [
    "preprocessor = ColumnTransformer([(col, ColumnEncoder('OneHotEncoder'), col) for col in X_col])\n",
    "\n",
    "pipeline_ohe = Pipeline([\n",
    "    ('enc', preprocessor),\n",
    "    ('clf', LGBMClassifier(is_unbalance='True')),\n",
    "     ])\n",
    " #Add param_grid for dimensionality reduction, classifier experiments\n",
    "    \n",
    "pipeline_ohe.fit(sample_X_train, sample_y_train)\n",
    "pred = pipeline_ohe.predict(sample_X_test)\n",
    "print(classification_report(sample_y_test, pred))"
   ]
  },
  {
   "cell_type": "markdown",
   "metadata": {},
   "source": [
    "### Hashing Encoder"
   ]
  },
  {
   "cell_type": "code",
   "execution_count": 15,
   "metadata": {
    "ExecuteTime": {
     "end_time": "2020-05-26T20:37:06.250742Z",
     "start_time": "2020-05-26T20:36:08.050038Z"
    }
   },
   "outputs": [
    {
     "name": "stdout",
     "output_type": "stream",
     "text": [
      "              precision    recall  f1-score   support\n",
      "\n",
      "           0       0.51      0.81      0.62     13638\n",
      "           1       0.74      0.41      0.53     18305\n",
      "\n",
      "    accuracy                           0.58     31943\n",
      "   macro avg       0.62      0.61      0.58     31943\n",
      "weighted avg       0.64      0.58      0.57     31943\n",
      "\n"
     ]
    }
   ],
   "source": [
    "preprocessor = ce.HashingEncoder()\n",
    "\n",
    "pipeline_fh = Pipeline([\n",
    "    ('enc', preprocessor),\n",
    "    ('clf', LGBMClassifier(is_unbalance='True')),\n",
    "     ])\n",
    " #Add param_grid for dimensionality reduction, classifier experiments\n",
    "    \n",
    "pipeline_fh.fit(sample_X_train, sample_y_train)\n",
    "pred = pipeline_fh.predict(sample_X_test)\n",
    "print(classification_report(sample_y_test, pred))"
   ]
  },
  {
   "cell_type": "markdown",
   "metadata": {},
   "source": [
    "### Word based: Similarity Encoder"
   ]
  },
  {
   "cell_type": "code",
   "execution_count": 24,
   "metadata": {
    "ExecuteTime": {
     "end_time": "2020-05-26T20:47:55.101289Z",
     "start_time": "2020-05-26T20:47:55.091856Z"
    }
   },
   "outputs": [
    {
     "data": {
      "text/plain": [
       "GenuineIntel                    50341\n",
       "Intel                            6483\n",
       "Intel(R) Corporation             4214\n",
       "Red Hat                          3046\n",
       "AuthenticAMD                      509\n",
       "Bochs                             137\n",
       "AMD                                79\n",
       "QEMU                               39\n",
       "Intel Corporation                   2\n",
       "nan                                 1\n",
       "Advanced Micro Devices, Inc.        1\n",
       "Name: pmanufacturer, dtype: int64"
      ]
     },
     "execution_count": 24,
     "metadata": {},
     "output_type": "execute_result"
    }
   ],
   "source": [
    "sample_X_train['pmanufacturer'].value_counts()"
   ]
  },
  {
   "cell_type": "code",
   "execution_count": 16,
   "metadata": {
    "ExecuteTime": {
     "end_time": "2020-05-26T20:37:43.958602Z",
     "start_time": "2020-05-26T20:37:06.252399Z"
    }
   },
   "outputs": [
    {
     "name": "stdout",
     "output_type": "stream",
     "text": [
      "              precision    recall  f1-score   support\n",
      "\n",
      "           0       0.58      0.73      0.65     13638\n",
      "           1       0.75      0.60      0.67     18305\n",
      "\n",
      "    accuracy                           0.66     31943\n",
      "   macro avg       0.66      0.67      0.66     31943\n",
      "weighted avg       0.68      0.66      0.66     31943\n",
      "\n"
     ]
    }
   ],
   "source": [
    "preprocessor = ColumnTransformer([(col, ColumnEncoder('SimilarityEncoder'), col) for col in X_col])\n",
    "\n",
    "pipeline_se = Pipeline([\n",
    "    ('enc', preprocessor),\n",
    "    ('svd', TruncatedSVD(n_components=100)),\n",
    "    ('clf', LGBMClassifier(is_unbalance='True')),\n",
    "     ])\n",
    " #Add param_grid for dimensionality reduction, classifier experiments\n",
    "    \n",
    "pipeline_se.fit(sample_X_train, sample_y_train)\n",
    "pred = pipeline_se.predict(sample_X_test)\n",
    "print(classification_report(sample_y_test, pred))"
   ]
  },
  {
   "cell_type": "code",
   "execution_count": 17,
   "metadata": {
    "ExecuteTime": {
     "end_time": "2020-05-26T20:38:56.362925Z",
     "start_time": "2020-05-26T20:37:43.960350Z"
    }
   },
   "outputs": [
    {
     "name": "stdout",
     "output_type": "stream",
     "text": [
      "              precision    recall  f1-score   support\n",
      "\n",
      "           0       0.58      0.75      0.66     13638\n",
      "           1       0.76      0.59      0.67     18305\n",
      "\n",
      "    accuracy                           0.66     31943\n",
      "   macro avg       0.67      0.67      0.66     31943\n",
      "weighted avg       0.69      0.66      0.66     31943\n",
      "\n"
     ]
    }
   ],
   "source": [
    "preprocessor = ColumnTransformer([(col, ColumnEncoder('SimilarityEncoder'), col) for col in X_col])\n",
    "\n",
    "pipeline_se = Pipeline([\n",
    "    ('enc', preprocessor),\n",
    "    ('clf', LGBMClassifier(is_unbalance='True')),\n",
    "     ])\n",
    " #Add param_grid for dimensionality reduction, classifier experiments\n",
    "    \n",
    "pipeline_se.fit(sample_X_train, sample_y_train)\n",
    "pred = pipeline_se.predict(sample_X_test)\n",
    "print(classification_report(sample_y_test, pred))"
   ]
  },
  {
   "cell_type": "code",
   "execution_count": 27,
   "metadata": {
    "ExecuteTime": {
     "end_time": "2020-05-29T18:54:38.436582Z",
     "start_time": "2020-05-29T18:54:38.419151Z"
    }
   },
   "outputs": [
    {
     "name": "stdout",
     "output_type": "stream",
     "text": [
      "              precision    recall  f1-score   support\n",
      "\n",
      "           0       0.58      0.76      0.66     13638\n",
      "           1       0.77      0.59      0.66     18305\n",
      "\n",
      "    accuracy                           0.66     31943\n",
      "   macro avg       0.67      0.67      0.66     31943\n",
      "weighted avg       0.69      0.66      0.66     31943\n",
      "\n"
     ]
    }
   ],
   "source": [
    "preprocessor = ColumnTransformer([(col,\n",
    "                                   ColumnEncoder('MinHashEncoder',\n",
    "                                                 n_components=100), col) \\\n",
    "                                  for col in X_col])\n",
    "\n",
    "pipeline_se = Pipeline([\n",
    "    ('enc', preprocessor),\n",
    "    ('clf', LGBMClassifier(is_unbalance='True')),\n",
    "     ])\n",
    " #Add param_grid for dimensionality reduction, classifier experiments\n",
    "    \n",
    "pipeline_se.fit(sample_X_train, sample_y_train)\n",
    "pred = pipeline_se.predict(sample_X_test)\n",
    "print(classification_report(sample_y_test, pred))"
   ]
  },
  {
   "cell_type": "code",
   "execution_count": 6,
   "metadata": {
    "ExecuteTime": {
     "end_time": "2020-05-29T19:00:25.255360Z",
     "start_time": "2020-05-29T18:56:37.136875Z"
    }
   },
   "outputs": [
    {
     "name": "stdout",
     "output_type": "stream",
     "text": [
      "[[129.]\n",
      " [126.]\n",
      " [131.]\n",
      " ...\n",
      " [128.]\n",
      " [126.]\n",
      " [129.]] 10\n",
      "[[ 3.]\n",
      " [66.]\n",
      " [66.]\n",
      " ...\n",
      " [66.]\n",
      " [66.]\n",
      " [66.]] 10\n",
      "[[ 9.]\n",
      " [32.]\n",
      " [32.]\n",
      " ...\n",
      " [32.]\n",
      " [32.]\n",
      " [32.]] 10\n",
      "              precision    recall  f1-score   support\n",
      "\n",
      "           0       0.57      0.76      0.65     13638\n",
      "           1       0.76      0.58      0.66     18305\n",
      "\n",
      "    accuracy                           0.66     31943\n",
      "   macro avg       0.67      0.67      0.66     31943\n",
      "weighted avg       0.68      0.66      0.66     31943\n",
      "\n"
     ]
    }
   ],
   "source": [
    "preprocessor = ColumnTransformer([(col,\n",
    "                                   ColumnEncoder('OnlineGammaPoissonFactorization',\n",
    "                                                 ngram_range=(2, 4), n_components=10), col) \\\n",
    "                                  for col in X_col])\n",
    "pipe_ogpf = Pipeline([\n",
    "    ('enc', preprocessor),\n",
    "    ('clf', LGBMClassifier(is_unbalance='True')),\n",
    "     ])\n",
    "pipe_ogpf.fit(sample_X_train, sample_y_train)\n",
    "pred = pipe_ogpf.predict(sample_X_test)\n",
    "print(classification_report(sample_y_test, pred))"
   ]
  },
  {
   "cell_type": "code",
   "execution_count": 18,
   "metadata": {
    "ExecuteTime": {
     "end_time": "2020-05-30T00:51:11.986614Z",
     "start_time": "2020-05-30T00:51:11.970983Z"
    }
   },
   "outputs": [
    {
     "data": {
      "text/plain": [
       "['genuineintel, google, inc',\n",
       " 'qemu, inc, genuineintel',\n",
       " 'authenticamd, devices, micro',\n",
       " 'bochs, genuineintel, google',\n",
       " 'genuineintel, google, inc',\n",
       " 'intel, google, genuineintel',\n",
       " 'intel, google, genuineintel',\n",
       " 'corporation, corp, google',\n",
       " 'genuineintel, google, inc',\n",
       " 'red, hat, google']"
      ]
     },
     "execution_count": 15,
     "metadata": {},
     "output_type": "execute_result"
    }
   ],
   "source": [
    "pipe_ogpf['enc'].named_transformers_['pmanufacturer'].get_feature_names()"
   ]
  },
  {
   "cell_type": "markdown",
   "metadata": {},
   "source": [
    "##### Next Steps\n",
    "\n",
    "* Tuning to see if this can make sense (number of reduced dimensions) \n",
    "* But we won't really have any way of tuning in unsupervised algorithm\n",
    "* Can we use hyperparameters tuned here in other cases as well?\n",
    "* Get more similar datasets for repeating experiments\n",
    "* Experiment with dimensionality reduction and classifiers\n",
    "\n"
   ]
  }
 ],
 "metadata": {
  "kernelspec": {
   "display_name": "Python 3",
   "language": "python",
   "name": "python3"
  },
  "language_info": {
   "codemirror_mode": {
    "name": "ipython",
    "version": 3
   },
   "file_extension": ".py",
   "mimetype": "text/x-python",
   "name": "python",
   "nbconvert_exporter": "python",
   "pygments_lexer": "ipython3",
   "version": "3.6.8"
  },
  "toc": {
   "base_numbering": 1,
   "nav_menu": {},
   "number_sections": true,
   "sideBar": true,
   "skip_h1_title": false,
   "title_cell": "Table of Contents",
   "title_sidebar": "Contents",
   "toc_cell": false,
   "toc_position": {},
   "toc_section_display": true,
   "toc_window_display": false
  }
 },
 "nbformat": 4,
 "nbformat_minor": 2
}
